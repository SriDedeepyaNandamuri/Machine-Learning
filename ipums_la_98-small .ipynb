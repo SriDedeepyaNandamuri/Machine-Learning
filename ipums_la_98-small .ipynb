{
 "cells": [
  {
   "cell_type": "markdown",
   "metadata": {},
   "source": [
    "# IPUMS_LA_98-SMALL"
   ]
  },
  {
   "cell_type": "code",
   "execution_count": 1,
   "metadata": {},
   "outputs": [],
   "source": [
    "import os\n",
    "import pandas as pd"
   ]
  },
  {
   "cell_type": "code",
   "execution_count": 2,
   "metadata": {},
   "outputs": [
    {
     "data": {
      "text/plain": [
       "'C:\\\\Users\\\\Administrator'"
      ]
     },
     "execution_count": 2,
     "metadata": {},
     "output_type": "execute_result"
    }
   ],
   "source": [
    "%pwd"
   ]
  },
  {
   "cell_type": "code",
   "execution_count": 3,
   "metadata": {},
   "outputs": [
    {
     "name": "stdout",
     "output_type": "stream",
     "text": [
      "C:\\Users\\Administrator\\Documents\\datasets\n"
     ]
    }
   ],
   "source": [
    "%cd C:\\Users\\Administrator\\Documents\\datasets"
   ]
  },
  {
   "cell_type": "code",
   "execution_count": 4,
   "metadata": {},
   "outputs": [
    {
     "data": {
      "text/html": [
       "<div>\n",
       "<style scoped>\n",
       "    .dataframe tbody tr th:only-of-type {\n",
       "        vertical-align: middle;\n",
       "    }\n",
       "\n",
       "    .dataframe tbody tr th {\n",
       "        vertical-align: top;\n",
       "    }\n",
       "\n",
       "    .dataframe thead th {\n",
       "        text-align: right;\n",
       "    }\n",
       "</style>\n",
       "<table border=\"1\" class=\"dataframe\">\n",
       "  <thead>\n",
       "    <tr style=\"text-align: right;\">\n",
       "      <th></th>\n",
       "      <th>year</th>\n",
       "      <th>gq</th>\n",
       "      <th>gqtypeg</th>\n",
       "      <th>farm</th>\n",
       "      <th>ownershg</th>\n",
       "      <th>value</th>\n",
       "      <th>rent</th>\n",
       "      <th>ftotinc</th>\n",
       "      <th>nfams</th>\n",
       "      <th>ncouples</th>\n",
       "      <th>...</th>\n",
       "      <th>incfarm</th>\n",
       "      <th>incss</th>\n",
       "      <th>incwelfr</th>\n",
       "      <th>incother</th>\n",
       "      <th>poverty</th>\n",
       "      <th>migrat5g</th>\n",
       "      <th>migplac5</th>\n",
       "      <th>movedin</th>\n",
       "      <th>vetstat</th>\n",
       "      <th>tranwork</th>\n",
       "    </tr>\n",
       "  </thead>\n",
       "  <tbody>\n",
       "    <tr>\n",
       "      <th>0</th>\n",
       "      <td>98</td>\n",
       "      <td>HH_in_1970_definition_but_sampled_as_larger_unit</td>\n",
       "      <td>NA_(household)</td>\n",
       "      <td>Non-Farm</td>\n",
       "      <td>Rented</td>\n",
       "      <td>999999</td>\n",
       "      <td>325</td>\n",
       "      <td>9505</td>\n",
       "      <td>1</td>\n",
       "      <td>1</td>\n",
       "      <td>...</td>\n",
       "      <td>0</td>\n",
       "      <td>0</td>\n",
       "      <td>0</td>\n",
       "      <td>0</td>\n",
       "      <td>128</td>\n",
       "      <td>Same_state_countydifferent_house</td>\n",
       "      <td>California</td>\n",
       "      <td>0</td>\n",
       "      <td>No_Service</td>\n",
       "      <td>Bus_or_streetcar</td>\n",
       "    </tr>\n",
       "    <tr>\n",
       "      <th>1</th>\n",
       "      <td>98</td>\n",
       "      <td>HH_in_1970_definition_but_sampled_as_larger_unit</td>\n",
       "      <td>NA_(household)</td>\n",
       "      <td>Non-Farm</td>\n",
       "      <td>Rented</td>\n",
       "      <td>999999</td>\n",
       "      <td>287</td>\n",
       "      <td>8005</td>\n",
       "      <td>1</td>\n",
       "      <td>0</td>\n",
       "      <td>...</td>\n",
       "      <td>0</td>\n",
       "      <td>0</td>\n",
       "      <td>0</td>\n",
       "      <td>0</td>\n",
       "      <td>211</td>\n",
       "      <td>Same_state_countydifferent_house</td>\n",
       "      <td>California</td>\n",
       "      <td>1</td>\n",
       "      <td>No_Service</td>\n",
       "      <td>Walked_only</td>\n",
       "    </tr>\n",
       "    <tr>\n",
       "      <th>2</th>\n",
       "      <td>98</td>\n",
       "      <td>HH_in_1970_definition_but_sampled_as_larger_unit</td>\n",
       "      <td>NA_(household)</td>\n",
       "      <td>Non-Farm</td>\n",
       "      <td>Owned_or_being_bought_(loan)</td>\n",
       "      <td>85000</td>\n",
       "      <td>0</td>\n",
       "      <td>29635</td>\n",
       "      <td>1</td>\n",
       "      <td>1</td>\n",
       "      <td>...</td>\n",
       "      <td>999999</td>\n",
       "      <td>99999</td>\n",
       "      <td>99999</td>\n",
       "      <td>99999</td>\n",
       "      <td>304</td>\n",
       "      <td>Same_house</td>\n",
       "      <td>Same_house</td>\n",
       "      <td>0</td>\n",
       "      <td>No_Service</td>\n",
       "      <td>Auto</td>\n",
       "    </tr>\n",
       "    <tr>\n",
       "      <th>3</th>\n",
       "      <td>98</td>\n",
       "      <td>HH_in_1970_definition_but_sampled_as_larger_unit</td>\n",
       "      <td>NA_(household)</td>\n",
       "      <td>Non-Farm</td>\n",
       "      <td>Owned_or_being_bought_(loan)</td>\n",
       "      <td>999999</td>\n",
       "      <td>0</td>\n",
       "      <td>52895</td>\n",
       "      <td>1</td>\n",
       "      <td>1</td>\n",
       "      <td>...</td>\n",
       "      <td>0</td>\n",
       "      <td>0</td>\n",
       "      <td>0</td>\n",
       "      <td>0</td>\n",
       "      <td>501</td>\n",
       "      <td>Same_house</td>\n",
       "      <td>Same_house</td>\n",
       "      <td>0</td>\n",
       "      <td>No_Service</td>\n",
       "      <td>Walked_only</td>\n",
       "    </tr>\n",
       "    <tr>\n",
       "      <th>4</th>\n",
       "      <td>98</td>\n",
       "      <td>HH_in_1970_definition_but_sampled_as_larger_unit</td>\n",
       "      <td>NA_(household)</td>\n",
       "      <td>Non-Farm</td>\n",
       "      <td>Rented</td>\n",
       "      <td>999999</td>\n",
       "      <td>185</td>\n",
       "      <td>7610</td>\n",
       "      <td>2</td>\n",
       "      <td>0</td>\n",
       "      <td>...</td>\n",
       "      <td>0</td>\n",
       "      <td>0</td>\n",
       "      <td>0</td>\n",
       "      <td>0</td>\n",
       "      <td>119</td>\n",
       "      <td>Same_state_countydifferent_house</td>\n",
       "      <td>California</td>\n",
       "      <td>0</td>\n",
       "      <td>No_Service</td>\n",
       "      <td>Auto</td>\n",
       "    </tr>\n",
       "  </tbody>\n",
       "</table>\n",
       "<p>5 rows × 61 columns</p>\n",
       "</div>"
      ],
      "text/plain": [
       "   year                                                gq         gqtypeg  \\\n",
       "0    98  HH_in_1970_definition_but_sampled_as_larger_unit  NA_(household)   \n",
       "1    98  HH_in_1970_definition_but_sampled_as_larger_unit  NA_(household)   \n",
       "2    98  HH_in_1970_definition_but_sampled_as_larger_unit  NA_(household)   \n",
       "3    98  HH_in_1970_definition_but_sampled_as_larger_unit  NA_(household)   \n",
       "4    98  HH_in_1970_definition_but_sampled_as_larger_unit  NA_(household)   \n",
       "\n",
       "       farm                      ownershg   value  rent  ftotinc  nfams  \\\n",
       "0  Non-Farm                        Rented  999999   325     9505      1   \n",
       "1  Non-Farm                        Rented  999999   287     8005      1   \n",
       "2  Non-Farm  Owned_or_being_bought_(loan)   85000     0    29635      1   \n",
       "3  Non-Farm  Owned_or_being_bought_(loan)  999999     0    52895      1   \n",
       "4  Non-Farm                        Rented  999999   185     7610      2   \n",
       "\n",
       "   ncouples  ...  incfarm  incss  incwelfr  incother  poverty  \\\n",
       "0         1  ...        0      0         0         0      128   \n",
       "1         0  ...        0      0         0         0      211   \n",
       "2         1  ...   999999  99999     99999     99999      304   \n",
       "3         1  ...        0      0         0         0      501   \n",
       "4         0  ...        0      0         0         0      119   \n",
       "\n",
       "                           migrat5g    migplac5  movedin     vetstat  \\\n",
       "0  Same_state_countydifferent_house  California        0  No_Service   \n",
       "1  Same_state_countydifferent_house  California        1  No_Service   \n",
       "2                        Same_house  Same_house        0  No_Service   \n",
       "3                        Same_house  Same_house        0  No_Service   \n",
       "4  Same_state_countydifferent_house  California        0  No_Service   \n",
       "\n",
       "           tranwork  \n",
       "0  Bus_or_streetcar  \n",
       "1       Walked_only  \n",
       "2              Auto  \n",
       "3       Walked_only  \n",
       "4              Auto  \n",
       "\n",
       "[5 rows x 61 columns]"
      ]
     },
     "execution_count": 4,
     "metadata": {},
     "output_type": "execute_result"
    }
   ],
   "source": [
    "df=pd.read_csv('ML dataset.csv',sep=\",\")# IMPORTING THE DATA\n",
    "df.head()# CHECKING THE FIRST TOP DATA)"
   ]
  },
  {
   "cell_type": "markdown",
   "metadata": {},
   "source": [
    "## EXPLOATORY DATA ANALYSIS"
   ]
  },
  {
   "cell_type": "code",
   "execution_count": 5,
   "metadata": {},
   "outputs": [
    {
     "data": {
      "text/plain": [
       "(7485, 61)"
      ]
     },
     "execution_count": 5,
     "metadata": {},
     "output_type": "execute_result"
    }
   ],
   "source": [
    "#CHECKING THE NO OF ROWS AND COLUMNS\n",
    "df.shape "
   ]
  },
  {
   "cell_type": "code",
   "execution_count": 6,
   "metadata": {},
   "outputs": [
    {
     "name": "stdout",
     "output_type": "stream",
     "text": [
      "<class 'pandas.core.frame.DataFrame'>\n",
      "RangeIndex: 7485 entries, 0 to 7484\n",
      "Data columns (total 61 columns):\n",
      "year        7485 non-null int64\n",
      "gq          7485 non-null object\n",
      "gqtypeg     7485 non-null object\n",
      "farm        7485 non-null object\n",
      "ownershg    7485 non-null object\n",
      "value       7485 non-null int64\n",
      "rent        7485 non-null int64\n",
      "ftotinc     7485 non-null int64\n",
      "nfams       7485 non-null int64\n",
      "ncouples    7485 non-null int64\n",
      "nmothers    7485 non-null int64\n",
      "nfathers    7485 non-null int64\n",
      "momloc      7485 non-null int64\n",
      "stepmom     7485 non-null int64\n",
      "momrule     7485 non-null int64\n",
      "poploc      7485 non-null int64\n",
      "steppop     7485 non-null int64\n",
      "poprule     7485 non-null int64\n",
      "sploc       7485 non-null int64\n",
      "sprule      7485 non-null int64\n",
      "famsize     7485 non-null int64\n",
      "nchild      7485 non-null int64\n",
      "nchlt5      7485 non-null int64\n",
      "famunit     7485 non-null int64\n",
      "eldch       7485 non-null int64\n",
      "yngch       7485 non-null int64\n",
      "nsibs       7485 non-null int64\n",
      "relateg     7485 non-null object\n",
      "age         7485 non-null int64\n",
      "sex         7485 non-null object\n",
      "raceg       7485 non-null object\n",
      "marst       7485 non-null object\n",
      "chborn      7485 non-null object\n",
      "bplg        7485 non-null object\n",
      "school      7485 non-null object\n",
      "educrec     7485 non-null object\n",
      "schltype    7485 non-null object\n",
      "empstatg    7485 non-null object\n",
      "labforce    7485 non-null object\n",
      "occ1950     7485 non-null object\n",
      "occscore    7485 non-null int64\n",
      "sei         7485 non-null int64\n",
      "ind1950     7485 non-null object\n",
      "classwkg    7485 non-null object\n",
      "wkswork2    7485 non-null object\n",
      "hrswork2    7485 non-null object\n",
      "yrlastwk    7485 non-null object\n",
      "workedyr    7485 non-null object\n",
      "inctot      7485 non-null int64\n",
      "incwage     7485 non-null int64\n",
      "incbus      7485 non-null int64\n",
      "incfarm     7485 non-null int64\n",
      "incss       7485 non-null int64\n",
      "incwelfr    7485 non-null int64\n",
      "incother    7485 non-null int64\n",
      "poverty     7485 non-null int64\n",
      "migrat5g    7485 non-null object\n",
      "migplac5    7485 non-null object\n",
      "movedin     7485 non-null int64\n",
      "vetstat     7485 non-null object\n",
      "tranwork    7485 non-null object\n",
      "dtypes: int64(35), object(26)\n",
      "memory usage: 3.5+ MB\n"
     ]
    }
   ],
   "source": [
    "#CHECKING THE DATATYPES \n",
    "df.info()"
   ]
  },
  {
   "cell_type": "code",
   "execution_count": 7,
   "metadata": {},
   "outputs": [
    {
     "data": {
      "text/plain": [
       "year        0\n",
       "gq          0\n",
       "gqtypeg     0\n",
       "farm        0\n",
       "ownershg    0\n",
       "value       0\n",
       "rent        0\n",
       "ftotinc     0\n",
       "nfams       0\n",
       "ncouples    0\n",
       "nmothers    0\n",
       "nfathers    0\n",
       "momloc      0\n",
       "stepmom     0\n",
       "momrule     0\n",
       "poploc      0\n",
       "steppop     0\n",
       "poprule     0\n",
       "sploc       0\n",
       "sprule      0\n",
       "famsize     0\n",
       "nchild      0\n",
       "nchlt5      0\n",
       "famunit     0\n",
       "eldch       0\n",
       "yngch       0\n",
       "nsibs       0\n",
       "relateg     0\n",
       "age         0\n",
       "sex         0\n",
       "           ..\n",
       "marst       0\n",
       "chborn      0\n",
       "bplg        0\n",
       "school      0\n",
       "educrec     0\n",
       "schltype    0\n",
       "empstatg    0\n",
       "labforce    0\n",
       "occ1950     0\n",
       "occscore    0\n",
       "sei         0\n",
       "ind1950     0\n",
       "classwkg    0\n",
       "wkswork2    0\n",
       "hrswork2    0\n",
       "yrlastwk    0\n",
       "workedyr    0\n",
       "inctot      0\n",
       "incwage     0\n",
       "incbus      0\n",
       "incfarm     0\n",
       "incss       0\n",
       "incwelfr    0\n",
       "incother    0\n",
       "poverty     0\n",
       "migrat5g    0\n",
       "migplac5    0\n",
       "movedin     0\n",
       "vetstat     0\n",
       "tranwork    0\n",
       "Length: 61, dtype: int64"
      ]
     },
     "execution_count": 7,
     "metadata": {},
     "output_type": "execute_result"
    }
   ],
   "source": [
    "#CHECKING THE MISSING VALUES\n",
    "df.isnull().sum()"
   ]
  },
  {
   "cell_type": "markdown",
   "metadata": {},
   "source": [
    "#### CHECKING NO OF CATEGORIES PRESENT IN EACH COLUMN"
   ]
  },
  {
   "cell_type": "code",
   "execution_count": 8,
   "metadata": {},
   "outputs": [
    {
     "data": {
      "text/plain": [
       "98    7485\n",
       "Name: year, dtype: int64"
      ]
     },
     "execution_count": 8,
     "metadata": {},
     "output_type": "execute_result"
    }
   ],
   "source": [
    "df['year'].value_counts()"
   ]
  },
  {
   "cell_type": "code",
   "execution_count": 9,
   "metadata": {},
   "outputs": [
    {
     "data": {
      "text/plain": [
       "HH_in_1970_definition_but_sampled_as_larger_unit    7353\n",
       "Institution                                           73\n",
       "Other_group_quarters                                  59\n",
       "Name: gq, dtype: int64"
      ]
     },
     "execution_count": 9,
     "metadata": {},
     "output_type": "execute_result"
    }
   ],
   "source": [
    "df['gq'].value_counts()"
   ]
  },
  {
   "cell_type": "code",
   "execution_count": 10,
   "metadata": {},
   "outputs": [
    {
     "data": {
      "text/plain": [
       "NA_(household)                     7353\n",
       "Other_institutions                   55\n",
       "College_dormitory                    29\n",
       "Other_non-instit_GQ_and_unknown      21\n",
       "Correctional_institutions            11\n",
       "Mental_institutions                   7\n",
       "Rooming_house                         6\n",
       "Military                              3\n",
       "Name: gqtypeg, dtype: int64"
      ]
     },
     "execution_count": 10,
     "metadata": {},
     "output_type": "execute_result"
    }
   ],
   "source": [
    "df['gqtypeg'].value_counts()"
   ]
  },
  {
   "cell_type": "code",
   "execution_count": 11,
   "metadata": {},
   "outputs": [
    {
     "data": {
      "text/plain": [
       "Non-Farm    7482\n",
       "Farm           3\n",
       "Name: farm, dtype: int64"
      ]
     },
     "execution_count": 11,
     "metadata": {},
     "output_type": "execute_result"
    }
   ],
   "source": [
    "df['farm'].value_counts()"
   ]
  },
  {
   "cell_type": "code",
   "execution_count": 12,
   "metadata": {},
   "outputs": [
    {
     "data": {
      "text/plain": [
       "Owned_or_being_bought_(loan)    4169\n",
       "Rented                          3316\n",
       "Name: ownershg, dtype: int64"
      ]
     },
     "execution_count": 12,
     "metadata": {},
     "output_type": "execute_result"
    }
   ],
   "source": [
    "df['ownershg'].value_counts()"
   ]
  },
  {
   "cell_type": "code",
   "execution_count": 13,
   "metadata": {},
   "outputs": [
    {
     "data": {
      "text/plain": [
       "999999    3942\n",
       "112500     450\n",
       "85000      366\n",
       "200000     349\n",
       "95000      334\n",
       "137500     326\n",
       "175000     306\n",
       "77500      243\n",
       "67500      215\n",
       "72500      183\n",
       "62500      173\n",
       "52500      140\n",
       "57500       94\n",
       "42499       78\n",
       "47500       68\n",
       "37500       55\n",
       "32500       43\n",
       "23750       27\n",
       "26250       22\n",
       "21250       18\n",
       "18750       16\n",
       "28750       13\n",
       "16250       10\n",
       "12500       10\n",
       "5000         4\n",
       "Name: value, dtype: int64"
      ]
     },
     "execution_count": 13,
     "metadata": {},
     "output_type": "execute_result"
    }
   ],
   "source": [
    "df['value'].value_counts()"
   ]
  },
  {
   "cell_type": "code",
   "execution_count": 14,
   "metadata": {},
   "outputs": [
    {
     "data": {
      "text/plain": [
       "0      4305\n",
       "325     358\n",
       "212     332\n",
       "262     283\n",
       "237     278\n",
       "375     262\n",
       "450     252\n",
       "287     245\n",
       "500     173\n",
       "155     135\n",
       "175     129\n",
       "185     113\n",
       "165     112\n",
       "195      97\n",
       "135      71\n",
       "125      66\n",
       "145      63\n",
       "105      54\n",
       "1        41\n",
       "115      30\n",
       "75       24\n",
       "85       21\n",
       "95       16\n",
       "65       14\n",
       "25        6\n",
       "55        5\n",
       "Name: rent, dtype: int64"
      ]
     },
     "execution_count": 14,
     "metadata": {},
     "output_type": "execute_result"
    }
   ],
   "source": [
    "df['rent'].value_counts()"
   ]
  },
  {
   "cell_type": "code",
   "execution_count": 15,
   "metadata": {},
   "outputs": [
    {
     "data": {
      "text/plain": [
       "75000     174\n",
       "999999    132\n",
       "0         109\n",
       "12005      63\n",
       "15005      62\n",
       "8005       49\n",
       "4005       45\n",
       "20005      45\n",
       "5005       43\n",
       "10005      42\n",
       "6005       40\n",
       "13005      36\n",
       "18005      35\n",
       "7005       32\n",
       "16005      29\n",
       "17005      28\n",
       "3005       27\n",
       "9005       27\n",
       "24010      26\n",
       "14005      25\n",
       "20010      25\n",
       "11005      25\n",
       "14010      24\n",
       "26010      23\n",
       "18010      22\n",
       "25010      22\n",
       "27010      21\n",
       "15010      21\n",
       "25005      20\n",
       "21010      20\n",
       "         ... \n",
       "74410       1\n",
       "6825        1\n",
       "8870        1\n",
       "23205       1\n",
       "10915       1\n",
       "25250       1\n",
       "41630       1\n",
       "2715        1\n",
       "19155       1\n",
       "4820        1\n",
       "15065       1\n",
       "41690       1\n",
       "19215       1\n",
       "33550       1\n",
       "29440       1\n",
       "2815        1\n",
       "17150       1\n",
       "45820       1\n",
       "6905        1\n",
       "35575       1\n",
       "8950        1\n",
       "61330       1\n",
       "37620       1\n",
       "10995       1\n",
       "2795        1\n",
       "31465       1\n",
       "21220       1\n",
       "8930        1\n",
       "27355       1\n",
       "65510       1\n",
       "Name: ftotinc, Length: 3594, dtype: int64"
      ]
     },
     "execution_count": 15,
     "metadata": {},
     "output_type": "execute_result"
    }
   ],
   "source": [
    "df['ftotinc'].value_counts()"
   ]
  },
  {
   "cell_type": "code",
   "execution_count": 16,
   "metadata": {},
   "outputs": [
    {
     "data": {
      "text/plain": [
       "1    6691\n",
       "2     625\n",
       "3      99\n",
       "4      36\n",
       "5      16\n",
       "6      10\n",
       "7       6\n",
       "8       2\n",
       "Name: nfams, dtype: int64"
      ]
     },
     "execution_count": 16,
     "metadata": {},
     "output_type": "execute_result"
    }
   ],
   "source": [
    "df['nfams'].value_counts()"
   ]
  },
  {
   "cell_type": "code",
   "execution_count": 17,
   "metadata": {},
   "outputs": [
    {
     "data": {
      "text/plain": [
       "1    4905\n",
       "0    2467\n",
       "2     110\n",
       "3       3\n",
       "Name: ncouples, dtype: int64"
      ]
     },
     "execution_count": 17,
     "metadata": {},
     "output_type": "execute_result"
    }
   ],
   "source": [
    "df['ncouples'].value_counts()"
   ]
  },
  {
   "cell_type": "code",
   "execution_count": 18,
   "metadata": {},
   "outputs": [
    {
     "data": {
      "text/plain": [
       "1    4469\n",
       "0    2621\n",
       "2     379\n",
       "3      16\n",
       "Name: nmothers, dtype: int64"
      ]
     },
     "execution_count": 18,
     "metadata": {},
     "output_type": "execute_result"
    }
   ],
   "source": [
    "df['nmothers'].value_counts()"
   ]
  },
  {
   "cell_type": "code",
   "execution_count": 19,
   "metadata": {},
   "outputs": [
    {
     "data": {
      "text/plain": [
       "1    3911\n",
       "0    3465\n",
       "2     108\n",
       "3       1\n",
       "Name: nfathers, dtype: int64"
      ]
     },
     "execution_count": 19,
     "metadata": {},
     "output_type": "execute_result"
    }
   ],
   "source": [
    "df['nfathers'].value_counts()"
   ]
  },
  {
   "cell_type": "code",
   "execution_count": 20,
   "metadata": {},
   "outputs": [
    {
     "data": {
      "text/plain": [
       "0     4913\n",
       "2     1840\n",
       "1      607\n",
       "3       59\n",
       "5       23\n",
       "4       17\n",
       "6       16\n",
       "8        6\n",
       "7        2\n",
       "10       1\n",
       "9        1\n",
       "Name: momloc, dtype: int64"
      ]
     },
     "execution_count": 20,
     "metadata": {},
     "output_type": "execute_result"
    }
   ],
   "source": [
    "df['momloc'].value_counts()"
   ]
  },
  {
   "cell_type": "code",
   "execution_count": 21,
   "metadata": {},
   "outputs": [
    {
     "data": {
      "text/plain": [
       "0    7378\n",
       "7      89\n",
       "4       8\n",
       "2       6\n",
       "1       4\n",
       "Name: stepmom, dtype: int64"
      ]
     },
     "execution_count": 21,
     "metadata": {},
     "output_type": "execute_result"
    }
   ],
   "source": [
    "df['stepmom'].value_counts()"
   ]
  },
  {
   "cell_type": "code",
   "execution_count": 22,
   "metadata": {},
   "outputs": [
    {
     "data": {
      "text/plain": [
       "0    4913\n",
       "1    2491\n",
       "2      36\n",
       "3      20\n",
       "5      16\n",
       "7       6\n",
       "6       3\n",
       "Name: momrule, dtype: int64"
      ]
     },
     "execution_count": 22,
     "metadata": {},
     "output_type": "execute_result"
    }
   ],
   "source": [
    "df['momrule'].value_counts()"
   ]
  },
  {
   "cell_type": "code",
   "execution_count": 23,
   "metadata": {},
   "outputs": [
    {
     "data": {
      "text/plain": [
       "0    5504\n",
       "1    1872\n",
       "2      82\n",
       "5       7\n",
       "4       7\n",
       "3       6\n",
       "6       3\n",
       "7       2\n",
       "9       1\n",
       "8       1\n",
       "Name: poploc, dtype: int64"
      ]
     },
     "execution_count": 23,
     "metadata": {},
     "output_type": "execute_result"
    }
   ],
   "source": [
    "df['poploc'].value_counts()"
   ]
  },
  {
   "cell_type": "code",
   "execution_count": 24,
   "metadata": {},
   "outputs": [
    {
     "data": {
      "text/plain": [
       "0    7480\n",
       "1       4\n",
       "2       1\n",
       "Name: steppop, dtype: int64"
      ]
     },
     "execution_count": 24,
     "metadata": {},
     "output_type": "execute_result"
    }
   ],
   "source": [
    "df['steppop'].value_counts()"
   ]
  },
  {
   "cell_type": "code",
   "execution_count": 25,
   "metadata": {},
   "outputs": [
    {
     "data": {
      "text/plain": [
       "0    5504\n",
       "1    1955\n",
       "2      16\n",
       "3       9\n",
       "7       1\n",
       "Name: poprule, dtype: int64"
      ]
     },
     "execution_count": 25,
     "metadata": {},
     "output_type": "execute_result"
    }
   ],
   "source": [
    "df['poprule'].value_counts()"
   ]
  },
  {
   "cell_type": "code",
   "execution_count": 26,
   "metadata": {},
   "outputs": [
    {
     "data": {
      "text/plain": [
       "0     4581\n",
       "1     1430\n",
       "2     1425\n",
       "4       19\n",
       "3       14\n",
       "5        6\n",
       "6        4\n",
       "7        3\n",
       "8        2\n",
       "10       1\n",
       "Name: sploc, dtype: int64"
      ]
     },
     "execution_count": 26,
     "metadata": {},
     "output_type": "execute_result"
    }
   ],
   "source": [
    "df['sploc'].value_counts()"
   ]
  },
  {
   "cell_type": "code",
   "execution_count": 27,
   "metadata": {},
   "outputs": [
    {
     "data": {
      "text/plain": [
       "0    4581\n",
       "1    2734\n",
       "2     149\n",
       "3      10\n",
       "4       8\n",
       "5       3\n",
       "Name: sprule, dtype: int64"
      ]
     },
     "execution_count": 27,
     "metadata": {},
     "output_type": "execute_result"
    }
   ],
   "source": [
    "df['sprule'].value_counts()"
   ]
  },
  {
   "cell_type": "code",
   "execution_count": 28,
   "metadata": {},
   "outputs": [
    {
     "data": {
      "text/plain": [
       "2     1469\n",
       "4     1365\n",
       "1     1281\n",
       "3     1269\n",
       "5      991\n",
       "6      531\n",
       "7      320\n",
       "8      118\n",
       "9       56\n",
       "10      32\n",
       "11      29\n",
       "13      12\n",
       "12       9\n",
       "14       2\n",
       "21       1\n",
       "Name: famsize, dtype: int64"
      ]
     },
     "execution_count": 28,
     "metadata": {},
     "output_type": "execute_result"
    }
   ],
   "source": [
    "df['famsize'].value_counts()"
   ]
  },
  {
   "cell_type": "code",
   "execution_count": 29,
   "metadata": {},
   "outputs": [
    {
     "data": {
      "text/plain": [
       "0    5292\n",
       "1     897\n",
       "2     704\n",
       "3     373\n",
       "4     135\n",
       "5      47\n",
       "6      17\n",
       "7      13\n",
       "9       5\n",
       "8       2\n",
       "Name: nchild, dtype: int64"
      ]
     },
     "execution_count": 29,
     "metadata": {},
     "output_type": "execute_result"
    }
   ],
   "source": [
    "df['nchild'].value_counts()"
   ]
  },
  {
   "cell_type": "code",
   "execution_count": 30,
   "metadata": {},
   "outputs": [
    {
     "data": {
      "text/plain": [
       "0    6739\n",
       "1     547\n",
       "2     177\n",
       "3      22\n",
       "Name: nchlt5, dtype: int64"
      ]
     },
     "execution_count": 30,
     "metadata": {},
     "output_type": "execute_result"
    }
   ],
   "source": [
    "df['nchlt5'].value_counts()"
   ]
  },
  {
   "cell_type": "code",
   "execution_count": 31,
   "metadata": {},
   "outputs": [
    {
     "data": {
      "text/plain": [
       "1    7152\n",
       "2     273\n",
       "3      45\n",
       "4       9\n",
       "5       5\n",
       "7       1\n",
       "Name: famunit, dtype: int64"
      ]
     },
     "execution_count": 31,
     "metadata": {},
     "output_type": "execute_result"
    }
   ],
   "source": [
    "df['famunit'].value_counts()"
   ]
  },
  {
   "cell_type": "code",
   "execution_count": 32,
   "metadata": {},
   "outputs": [
    {
     "data": {
      "text/plain": [
       "99    5292\n",
       "16      93\n",
       "17      93\n",
       "19      89\n",
       "18      88\n",
       "20      87\n",
       "4       85\n",
       "3       83\n",
       "5       82\n",
       "9       82\n",
       "10      82\n",
       "14      81\n",
       "15      79\n",
       "11      79\n",
       "0       79\n",
       "1       78\n",
       "8       76\n",
       "12      76\n",
       "21      74\n",
       "13      70\n",
       "6       68\n",
       "7       68\n",
       "2       67\n",
       "23      60\n",
       "22      54\n",
       "24      44\n",
       "26      30\n",
       "25      27\n",
       "27      20\n",
       "30      18\n",
       "      ... \n",
       "55       5\n",
       "40       5\n",
       "51       5\n",
       "42       5\n",
       "35       5\n",
       "50       4\n",
       "56       4\n",
       "39       4\n",
       "49       4\n",
       "52       4\n",
       "46       3\n",
       "61       3\n",
       "43       3\n",
       "54       3\n",
       "53       3\n",
       "65       2\n",
       "36       2\n",
       "63       2\n",
       "60       2\n",
       "48       2\n",
       "57       2\n",
       "62       2\n",
       "47       1\n",
       "44       1\n",
       "67       1\n",
       "58       1\n",
       "59       1\n",
       "66       1\n",
       "68       1\n",
       "64       1\n",
       "Name: eldch, Length: 69, dtype: int64"
      ]
     },
     "execution_count": 32,
     "metadata": {},
     "output_type": "execute_result"
    }
   ],
   "source": [
    "df['eldch'].value_counts()"
   ]
  },
  {
   "cell_type": "code",
   "execution_count": 33,
   "metadata": {},
   "outputs": [
    {
     "data": {
      "text/plain": [
       "99    5292\n",
       "0      205\n",
       "1      164\n",
       "2      141\n",
       "3      129\n",
       "4      107\n",
       "6      101\n",
       "5       89\n",
       "9       88\n",
       "8       83\n",
       "7       78\n",
       "10      73\n",
       "13      69\n",
       "16      69\n",
       "14      68\n",
       "15      68\n",
       "12      67\n",
       "11      62\n",
       "17      52\n",
       "18      49\n",
       "20      48\n",
       "19      44\n",
       "21      42\n",
       "22      33\n",
       "23      28\n",
       "24      25\n",
       "27      18\n",
       "26      15\n",
       "25      15\n",
       "32      12\n",
       "      ... \n",
       "34       6\n",
       "37       6\n",
       "51       5\n",
       "52       5\n",
       "61       4\n",
       "49       4\n",
       "42       4\n",
       "46       4\n",
       "50       4\n",
       "35       4\n",
       "56       4\n",
       "53       3\n",
       "55       3\n",
       "54       3\n",
       "36       2\n",
       "48       2\n",
       "65       2\n",
       "60       2\n",
       "57       2\n",
       "63       2\n",
       "62       2\n",
       "39       2\n",
       "43       2\n",
       "44       1\n",
       "64       1\n",
       "68       1\n",
       "58       1\n",
       "66       1\n",
       "47       1\n",
       "59       1\n",
       "Name: yngch, Length: 68, dtype: int64"
      ]
     },
     "execution_count": 33,
     "metadata": {},
     "output_type": "execute_result"
    }
   ],
   "source": [
    "df['yngch'].value_counts()"
   ]
  },
  {
   "cell_type": "code",
   "execution_count": 34,
   "metadata": {},
   "outputs": [
    {
     "data": {
      "text/plain": [
       "0    5146\n",
       "1    1048\n",
       "2     610\n",
       "3     334\n",
       "4     197\n",
       "5      77\n",
       "6      37\n",
       "7      25\n",
       "8       8\n",
       "9       3\n",
       "Name: nsibs, dtype: int64"
      ]
     },
     "execution_count": 34,
     "metadata": {},
     "output_type": "execute_result"
    }
   ],
   "source": [
    "df['nsibs'].value_counts()"
   ]
  },
  {
   "cell_type": "code",
   "execution_count": 35,
   "metadata": {},
   "outputs": [
    {
     "data": {
      "text/plain": [
       "Head_Householder          2683\n",
       "Child                     2485\n",
       "Spouse                    1429\n",
       "Partner_friend_visitor     202\n",
       "Other_non-relatives        190\n",
       "Sibling                    134\n",
       "Parent                      79\n",
       "Grandchild                  76\n",
       "Institutional_inmates       73\n",
       "Other_relatives             69\n",
       "Sibling-in-Law              33\n",
       "Parent-in-Law               19\n",
       "Child-in-law                13\n",
       "Name: relateg, dtype: int64"
      ]
     },
     "execution_count": 35,
     "metadata": {},
     "output_type": "execute_result"
    }
   ],
   "source": [
    "df['relateg'].value_counts()"
   ]
  },
  {
   "cell_type": "code",
   "execution_count": 36,
   "metadata": {},
   "outputs": [
    {
     "data": {
      "text/plain": [
       "19    164\n",
       "22    162\n",
       "23    156\n",
       "25    154\n",
       "20    154\n",
       "26    150\n",
       "33    148\n",
       "32    146\n",
       "30    145\n",
       "12    140\n",
       "17    140\n",
       "24    139\n",
       "21    137\n",
       "29    135\n",
       "18    134\n",
       "15    127\n",
       "27    126\n",
       "0     122\n",
       "16    122\n",
       "31    122\n",
       "9     121\n",
       "14    120\n",
       "11    119\n",
       "28    118\n",
       "10    118\n",
       "5     117\n",
       "13    116\n",
       "3     111\n",
       "1     111\n",
       "39    109\n",
       "     ... \n",
       "52     60\n",
       "48     57\n",
       "60     56\n",
       "68     55\n",
       "66     55\n",
       "69     54\n",
       "67     47\n",
       "65     43\n",
       "64     41\n",
       "71     36\n",
       "72     34\n",
       "70     34\n",
       "73     34\n",
       "75     33\n",
       "74     29\n",
       "76     25\n",
       "79     24\n",
       "81     23\n",
       "83     22\n",
       "77     19\n",
       "90     19\n",
       "82     18\n",
       "80     18\n",
       "78     17\n",
       "85     13\n",
       "84     11\n",
       "87      8\n",
       "89      8\n",
       "86      7\n",
       "88      3\n",
       "Name: age, Length: 91, dtype: int64"
      ]
     },
     "execution_count": 36,
     "metadata": {},
     "output_type": "execute_result"
    }
   ],
   "source": [
    "df['age'].value_counts()"
   ]
  },
  {
   "cell_type": "code",
   "execution_count": 37,
   "metadata": {},
   "outputs": [
    {
     "data": {
      "text/plain": [
       "count    7485.000000\n",
       "mean       32.486707\n",
       "std        21.120395\n",
       "min         0.000000\n",
       "25%        16.000000\n",
       "50%        29.000000\n",
       "75%        48.000000\n",
       "max        90.000000\n",
       "Name: age, dtype: float64"
      ]
     },
     "execution_count": 37,
     "metadata": {},
     "output_type": "execute_result"
    }
   ],
   "source": [
    "df['age'].describe()"
   ]
  },
  {
   "cell_type": "code",
   "execution_count": 38,
   "metadata": {},
   "outputs": [
    {
     "data": {
      "text/plain": [
       "Female    3878\n",
       "Male      3607\n",
       "Name: sex, dtype: int64"
      ]
     },
     "execution_count": 38,
     "metadata": {},
     "output_type": "execute_result"
    }
   ],
   "source": [
    "df['sex'].value_counts()"
   ]
  },
  {
   "cell_type": "code",
   "execution_count": 39,
   "metadata": {},
   "outputs": [
    {
     "data": {
      "text/plain": [
       "White                     5854\n",
       "Black_Negro                975\n",
       "Other_Asian_or_Pacific     269\n",
       "Japanese                   124\n",
       "Other_race_nec             114\n",
       "Chinese                     93\n",
       "American_Indian             56\n",
       "Name: raceg, dtype: int64"
      ]
     },
     "execution_count": 39,
     "metadata": {},
     "output_type": "execute_result"
    }
   ],
   "source": [
    "df['raceg'].value_counts()"
   ]
  },
  {
   "cell_type": "code",
   "execution_count": 40,
   "metadata": {},
   "outputs": [
    {
     "data": {
      "text/plain": [
       "Never_married_single      3425\n",
       "Married_spouse_present    2904\n",
       "Divorced                   514\n",
       "Widowed                    366\n",
       "Separated                  186\n",
       "Married_spouse_absent       90\n",
       "Name: marst, dtype: int64"
      ]
     },
     "execution_count": 40,
     "metadata": {},
     "output_type": "execute_result"
    }
   ],
   "source": [
    "df['marst'].value_counts()"
   ]
  },
  {
   "cell_type": "code",
   "execution_count": 41,
   "metadata": {},
   "outputs": [
    {
     "data": {
      "text/plain": [
       "No_children           2775\n",
       "2__children           1449\n",
       "1_child               1256\n",
       "3                      884\n",
       "4                      552\n",
       "5                      251\n",
       "6                      123\n",
       "7                       88\n",
       "8                       37\n",
       "9                       27\n",
       "10_children             18\n",
       "0                       10\n",
       "12_(12+_1960-1990)       9\n",
       "11                       6\n",
       "Name: chborn, dtype: int64"
      ]
     },
     "execution_count": 41,
     "metadata": {},
     "output_type": "execute_result"
    }
   ],
   "source": [
    "df['chborn'].value_counts()"
   ]
  },
  {
   "cell_type": "code",
   "execution_count": 42,
   "metadata": {},
   "outputs": [
    {
     "data": {
      "text/plain": [
       "California                    3080\n",
       "Mexico                         710\n",
       "New_York                       265\n",
       "Texas                          259\n",
       "Illinois                       219\n",
       "Ohio                           141\n",
       "Pennsylvania                   135\n",
       "Central_America                115\n",
       "Missouri                       105\n",
       "Abroad_(unknown)_or_at_sea      93\n",
       "Louisiana                       84\n",
       "Oklahoma                        83\n",
       "Michigan                        82\n",
       "Philippines                     82\n",
       "Iowa                            71\n",
       "Minnesota                       66\n",
       "Kansas                          62\n",
       "Indiana                         61\n",
       "Colorado                        61\n",
       "Washington                      60\n",
       "China                           59\n",
       "Arkansas                        58\n",
       "South_America                   58\n",
       "Nebraska                        57\n",
       "Korea                           56\n",
       "Canada                          54\n",
       "Mississippi                     53\n",
       "New_Jersey                      53\n",
       "Massachusetts                   50\n",
       "Arizona                         49\n",
       "                              ... \n",
       "Spain                            5\n",
       "Thailand                         5\n",
       "Vermont                          5\n",
       "Pacific_Islands                  5\n",
       "Cambodia_(Kampuchea)             5\n",
       "United_Kingdom_ns                5\n",
       "Indonesia                        5\n",
       "U_S__Virgin_Islands              5\n",
       "Laos                             4\n",
       "Wyoming                          4\n",
       "Syria                            4\n",
       "Israel_Palestine                 4\n",
       "Portugal                         4\n",
       "Guam                             4\n",
       "Czechoslovakia                   4\n",
       "Maine                            3\n",
       "Austria                          3\n",
       "Denmark                          3\n",
       "Finland                          3\n",
       "Saudi_Arabia                     3\n",
       "Belgium                          2\n",
       "Delaware                         2\n",
       "Switerland                       1\n",
       "Afghanistan                      1\n",
       "Cyprus                           1\n",
       "Alaska                           1\n",
       "Iceland                          1\n",
       "Malaysia                         1\n",
       "Iraq                             1\n",
       "Norway                           1\n",
       "Name: bplg, Length: 110, dtype: int64"
      ]
     },
     "execution_count": 42,
     "metadata": {},
     "output_type": "execute_result"
    }
   ],
   "source": [
    "df['bplg'].value_counts()"
   ]
  },
  {
   "cell_type": "code",
   "execution_count": 43,
   "metadata": {},
   "outputs": [
    {
     "data": {
      "text/plain": [
       "No_not_in_school    5314\n",
       "Yes_in_school       2171\n",
       "Name: school, dtype: int64"
      ]
     },
     "execution_count": 43,
     "metadata": {},
     "output_type": "execute_result"
    }
   ],
   "source": [
    "df['school'].value_counts()"
   ]
  },
  {
   "cell_type": "code",
   "execution_count": 44,
   "metadata": {},
   "outputs": [
    {
     "data": {
      "text/plain": [
       "Grade_12                   1807\n",
       "1_to_3_years_of_college    1294\n",
       "Grade_5-8                  1174\n",
       "4+_years_of_college         894\n",
       "Grade_1-4                   651\n",
       "None_or_preschool           571\n",
       "Grade_11                    425\n",
       "Grade_10                    347\n",
       "Grade_9                     322\n",
       "Name: educrec, dtype: int64"
      ]
     },
     "execution_count": 44,
     "metadata": {},
     "output_type": "execute_result"
    }
   ],
   "source": [
    "df['educrec'].value_counts()"
   ]
  },
  {
   "cell_type": "code",
   "execution_count": 45,
   "metadata": {},
   "outputs": [
    {
     "data": {
      "text/plain": [
       "Public_school            6192\n",
       "Church-related_(1980)     862\n",
       "Other_private_1980        426\n",
       "0                           5\n",
       "Name: schltype, dtype: int64"
      ]
     },
     "execution_count": 45,
     "metadata": {},
     "output_type": "execute_result"
    }
   ],
   "source": [
    "df['schltype'].value_counts()"
   ]
  },
  {
   "cell_type": "code",
   "execution_count": 46,
   "metadata": {},
   "outputs": [
    {
     "data": {
      "text/plain": [
       "Employed              4539\n",
       "Not_in_labor_force    2626\n",
       "Unemployed             316\n",
       "0                        4\n",
       "Name: empstatg, dtype: int64"
      ]
     },
     "execution_count": 46,
     "metadata": {},
     "output_type": "execute_result"
    }
   ],
   "source": [
    "df['empstatg'].value_counts()"
   ]
  },
  {
   "cell_type": "code",
   "execution_count": 47,
   "metadata": {},
   "outputs": [
    {
     "data": {
      "text/plain": [
       "Yes_in_labor_force       4855\n",
       "No_not_in_labor_force    2626\n",
       "0                           4\n",
       "Name: labforce, dtype: int64"
      ]
     },
     "execution_count": 47,
     "metadata": {},
     "output_type": "execute_result"
    }
   ],
   "source": [
    "df['labforce'].value_counts()"
   ]
  },
  {
   "cell_type": "code",
   "execution_count": 48,
   "metadata": {},
   "outputs": [
    {
     "data": {
      "text/plain": [
       "Operative_and_kindred_workers_(nec)                   799\n",
       "Clerical_and_kindred_workers_(n_e_c_)                 635\n",
       "Managers_officials_and_proprietors_(nec)              606\n",
       "Salesmen_and_sales_clerks_(nec)                       381\n",
       "Stenographers_typists_and_secretaries                 353\n",
       "Laborers_(nec)                                        249\n",
       "Teachers_(n_e_c_)                                     171\n",
       "Foremen_(nec)                                         167\n",
       "Bookkeepers                                           155\n",
       "Janitors_and_sextons                                  152\n",
       "Cashiers                                              141\n",
       "Cooks_except_private_household                        136\n",
       "Attendants_hospital_and_other_institution             115\n",
       "Waiters_and_waitresses                                114\n",
       "Professional_technical_99_kindred_workers_(nec)        96\n",
       "Nurses_professional                                    90\n",
       "Office_machine_operators                               89\n",
       "Truck_and_tractor_drivers                              89\n",
       "Automobile-mechanics_and_repairmen                     86\n",
       "Attendants_professional_and_personal_service_(nec)     75\n",
       "Accountants_and_auditors                               75\n",
       "Private_household_workers_(nec)                        74\n",
       "Machinists                                             70\n",
       "Real_estate_agents_and_brokers                         68\n",
       "Mechanics_and_repairmen_(nec)                          65\n",
       "Shipping_and_receiving_clerks                          58\n",
       "Lawyers_and_judges                                     57\n",
       "Buyers_and_dept_heads_store                            57\n",
       "Service_workers_except_private_household_(nec)         56\n",
       "Deliverymen_and_routemen                               53\n",
       "                                                     ... \n",
       "Structural_metal_workers                                2\n",
       "Advertising_agents_and_salesmen                         2\n",
       "Fishermen_and_oystermen                                 2\n",
       "Millwrights                                             2\n",
       "Optometrists                                            2\n",
       "Brakemen_railroad                                       2\n",
       "Surveyors                                               2\n",
       "Sawyers                                                 2\n",
       "Officers_pilots_pursers_and_engineers_ship              2\n",
       "Auto_mechanics_apprentice                               2\n",
       "Conductors_railroad                                     2\n",
       "Demonstrators                                           2\n",
       "Bookbinders                                             2\n",
       "Motion_picture_projectionists                           2\n",
       "Pattern_and_model_makers_except_paper                   2\n",
       "Asbestos_and_insulation_workers                         1\n",
       "Photoengravers_571_lithographers                        1\n",
       "Forgemen_and_hammermen                                  1\n",
       "Chiropractors                                           1\n",
       "Job_setters_metal                                       1\n",
       "Funeral_directors_and_embalmers                         1\n",
       "Dentists                                                1\n",
       "Aricultural_sciences-Professors                         1\n",
       "Farmers_(owners_and_tenants)                            1\n",
       "Veterinarians                                           1\n",
       "Postmasters                                             1\n",
       "Auctioneers                                             1\n",
       "Engravers_except_engravers                              1\n",
       "Mining-Engineers                                        1\n",
       "Plasterers                                              1\n",
       "Name: occ1950, Length: 182, dtype: int64"
      ]
     },
     "execution_count": 48,
     "metadata": {},
     "output_type": "execute_result"
    }
   ],
   "source": [
    "df['occ1950'].value_counts()"
   ]
  },
  {
   "cell_type": "code",
   "execution_count": 49,
   "metadata": {},
   "outputs": [
    {
     "data": {
      "text/plain": [
       "0     3187\n",
       "22     493\n",
       "24     470\n",
       "41     350\n",
       "23     329\n",
       "25     272\n",
       "26     254\n",
       "20     239\n",
       "37     133\n",
       "11     130\n",
       "31     116\n",
       "18     113\n",
       "27     112\n",
       "17     106\n",
       "30     103\n",
       "16     100\n",
       "35      96\n",
       "32      79\n",
       "19      73\n",
       "29      71\n",
       "38      62\n",
       "14      53\n",
       "34      49\n",
       "6       47\n",
       "13      44\n",
       "33      43\n",
       "39      42\n",
       "42      35\n",
       "21      34\n",
       "61      33\n",
       "46      33\n",
       "28      28\n",
       "48      25\n",
       "36      24\n",
       "79      23\n",
       "15      17\n",
       "9       12\n",
       "49      10\n",
       "43      10\n",
       "40       7\n",
       "10       7\n",
       "45       7\n",
       "4        7\n",
       "50       3\n",
       "5        2\n",
       "58       1\n",
       "63       1\n",
       "Name: occscore, dtype: int64"
      ]
     },
     "execution_count": 49,
     "metadata": {},
     "output_type": "execute_result"
    }
   ],
   "source": [
    "df['occscore'].value_counts()"
   ]
  },
  {
   "cell_type": "code",
   "execution_count": 50,
   "metadata": {},
   "outputs": [
    {
     "data": {
      "text/plain": [
       "0     3187\n",
       "18     481\n",
       "44     466\n",
       "68     362\n",
       "47     239\n",
       "61     215\n",
       "8      161\n",
       "15     143\n",
       "72     141\n",
       "19     119\n",
       "49     114\n",
       "16      97\n",
       "9       88\n",
       "51      86\n",
       "84      79\n",
       "22      74\n",
       "45      74\n",
       "52      65\n",
       "11      59\n",
       "13      58\n",
       "65      56\n",
       "27      52\n",
       "46      52\n",
       "62      49\n",
       "26      46\n",
       "33      45\n",
       "78      45\n",
       "48      42\n",
       "53      41\n",
       "7       41\n",
       "      ... \n",
       "58      12\n",
       "60      11\n",
       "77       9\n",
       "90       9\n",
       "76       8\n",
       "37       8\n",
       "50       7\n",
       "28       7\n",
       "40       6\n",
       "81       6\n",
       "12       5\n",
       "63       5\n",
       "69       5\n",
       "79       4\n",
       "25       4\n",
       "4        3\n",
       "21       3\n",
       "41       3\n",
       "20       2\n",
       "5        2\n",
       "43       2\n",
       "56       2\n",
       "80       2\n",
       "59       1\n",
       "96       1\n",
       "35       1\n",
       "54       1\n",
       "75       1\n",
       "85       1\n",
       "14       1\n",
       "Name: sei, Length: 82, dtype: int64"
      ]
     },
     "execution_count": 50,
     "metadata": {},
     "output_type": "execute_result"
    }
   ],
   "source": [
    "df['sei'].value_counts()"
   ]
  },
  {
   "cell_type": "code",
   "execution_count": 51,
   "metadata": {},
   "outputs": [
    {
     "data": {
      "text/plain": [
       "Educational_services                                  524\n",
       "Eating_and_drinking__places                           401\n",
       "Hospitals                                             395\n",
       "Construction                                          347\n",
       "Misc_business_services                                331\n",
       "Aircraft_and_parts                                    289\n",
       "General_merchandise                                   204\n",
       "Banking_and_credit                                    198\n",
       "Printing_publishing_and_allied_industries             189\n",
       "Electrical_machinery_equipment_and_supplies           181\n",
       "Medical_and_other_health_services_except_hospitals    176\n",
       "Apparel_and_accessories                               158\n",
       "Federal_public_administration                         151\n",
       "Food_stores_except_dairy                              149\n",
       "Insurance                                             137\n",
       "Welfare_and_religious_services                        132\n",
       "Misc_machinery                                        127\n",
       "Auto_repair_services_and_garages                      112\n",
       "Private_households                                    101\n",
       "Theaters_and_motion_pictures                          101\n",
       "Fabricated_steel_products                             100\n",
       "Real_estate                                            98\n",
       "Telephone                                              95\n",
       "Trucking_service                                       90\n",
       "Misc_manufacturing_industries                          84\n",
       "Misc_retail_stores                                     82\n",
       "Local_public_administration                            80\n",
       "Misc_entertainment_and_recreation_services             79\n",
       "Air_transportation                                     79\n",
       "Furniture_and_fixtures                                 77\n",
       "                                                     ... \n",
       "Misc_petroleum_and_coal_products                        8\n",
       "Cement_concrete_gypsum_and_plaster_products             7\n",
       "Misc_paper_and_pulp_products                            6\n",
       "Sanitary_services                                       6\n",
       "Misc_wood_products                                      6\n",
       "Bowling_alleys_and_billiard_and_pool_parlors            6\n",
       "Railroad_and_misc_transportation_equipment              6\n",
       "Tobacco_manufactures                                    5\n",
       "Rubber_products                                         5\n",
       "0                                                       5\n",
       "Crude_petroleum_and_natural_gas_extraction              5\n",
       "Sawmills_planing_mills_and_mill_work                    4\n",
       "Five_and_ten_cent_stores                                4\n",
       "Fuel_and_ice_retailing                                  4\n",
       "Drugs_and_medicines                                     4\n",
       "Carpets_rugs_and_other_floor_coverings                  3\n",
       "Forestry                                                3\n",
       "Yarn_thread_and_fabric                                  3\n",
       "Dairy_prods_stores_and_milk_retailing                   3\n",
       "Gas_and_steam_supply_systems                            3\n",
       "Misc_nonmetallic_mineral_and_stone_products             2\n",
       "Knitting_mills                                          2\n",
       "Taxicab_service                                         2\n",
       "Dressmaking_shops                                       2\n",
       "Metal_mining                                            2\n",
       "Structural_clay_products                                1\n",
       "Shoe_repair_shops                                       1\n",
       "Agricultural_machinery_and_tractors                     1\n",
       "Nonmettalic__mining_and_quarrying_except_fuel           1\n",
       "Misc_textile_mill_products                              1\n",
       "Name: ind1950, Length: 132, dtype: int64"
      ]
     },
     "execution_count": 51,
     "metadata": {},
     "output_type": "execute_result"
    }
   ],
   "source": [
    "df['ind1950'].value_counts()"
   ]
  },
  {
   "cell_type": "code",
   "execution_count": 52,
   "metadata": {},
   "outputs": [
    {
     "data": {
      "text/plain": [
       "Works_for_wages_salary    6856\n",
       "Self-employed              624\n",
       "0                            5\n",
       "Name: classwkg, dtype: int64"
      ]
     },
     "execution_count": 52,
     "metadata": {},
     "output_type": "execute_result"
    }
   ],
   "source": [
    "df['classwkg'].value_counts()"
   ]
  },
  {
   "cell_type": "code",
   "execution_count": 53,
   "metadata": {},
   "outputs": [
    {
     "data": {
      "text/plain": [
       "50-52_weeks    4424\n",
       "40-47_weeks     744\n",
       "14-26_weeks     649\n",
       "1-13_weeks      603\n",
       "27-39_weeks     553\n",
       "48-49_weeks     507\n",
       "0                 5\n",
       "Name: wkswork2, dtype: int64"
      ]
     },
     "execution_count": 53,
     "metadata": {},
     "output_type": "execute_result"
    }
   ],
   "source": [
    "df['wkswork2'].value_counts()"
   ]
  },
  {
   "cell_type": "code",
   "execution_count": 54,
   "metadata": {},
   "outputs": [
    {
     "data": {
      "text/plain": [
       "40_hours       3971\n",
       "15-29_hours     753\n",
       "41-48_hours     719\n",
       "49-59_hours     679\n",
       "1-14_hours      392\n",
       "30-34_hours     346\n",
       "60+_hours       322\n",
       "35-39_hours     298\n",
       "0                 5\n",
       "Name: hrswork2, dtype: int64"
      ]
     },
     "execution_count": 54,
     "metadata": {},
     "output_type": "execute_result"
    }
   ],
   "source": [
    "df['hrswork2'].value_counts()"
   ]
  },
  {
   "cell_type": "code",
   "execution_count": 55,
   "metadata": {},
   "outputs": [
    {
     "data": {
      "text/plain": [
       "Worked_more_than_10_yrs_ago    1768\n",
       "Never_worked                   1707\n",
       "Worked_previous_yr             1012\n",
       "Worked_current_yr               966\n",
       "Worked_6-10_yrs_ago             925\n",
       "Worked_3-5_yrs_ago              710\n",
       "Worked_2_yrs_prior              388\n",
       "0                                 9\n",
       "Name: yrlastwk, dtype: int64"
      ]
     },
     "execution_count": 55,
     "metadata": {},
     "output_type": "execute_result"
    }
   ],
   "source": [
    "df['yrlastwk'].value_counts()"
   ]
  },
  {
   "cell_type": "code",
   "execution_count": 56,
   "metadata": {},
   "outputs": [
    {
     "data": {
      "text/plain": [
       "Yes    4989\n",
       "No     2492\n",
       "0         4\n",
       "Name: workedyr, dtype: int64"
      ]
     },
     "execution_count": 56,
     "metadata": {},
     "output_type": "execute_result"
    }
   ],
   "source": [
    "df['workedyr'].value_counts()"
   ]
  },
  {
   "cell_type": "code",
   "execution_count": 57,
   "metadata": {},
   "outputs": [
    {
     "data": {
      "text/plain": [
       " 999999    1684\n",
       " 0         1036\n",
       " 10005      101\n",
       " 8005        76\n",
       " 5005        75\n",
       " 6005        74\n",
       " 12005       71\n",
       " 7005        63\n",
       " 15005       60\n",
       " 3005        59\n",
       " 20005       57\n",
       " 4005        54\n",
       " 18005       49\n",
       " 11005       49\n",
       " 2005        45\n",
       " 16005       45\n",
       " 9005        44\n",
       " 13005       36\n",
       " 75000       33\n",
       " 14005       33\n",
       " 30005       25\n",
       " 605         25\n",
       " 17005       25\n",
       " 2505        25\n",
       " 22005       24\n",
       " 3605        23\n",
       " 25005       23\n",
       " 19005       23\n",
       " 1205        22\n",
       " 1505        22\n",
       "           ... \n",
       " 1030         1\n",
       " 25610        1\n",
       " 11275        1\n",
       " 15385        1\n",
       " 810          1\n",
       " 8990         1\n",
       " 27415        1\n",
       " 15125        1\n",
       " 21140        1\n",
       " 2715         1\n",
       " 6825         1\n",
       " 74410        1\n",
       " 31405        1\n",
       " 15025        1\n",
       " 27315        1\n",
       " 10935        1\n",
       "-835          1\n",
       " 15045        1\n",
       " 2775         1\n",
       " 15065        1\n",
       " 13020        1\n",
       " 10995        1\n",
       " 23285        1\n",
       " 4860         1\n",
       " 29440        1\n",
       " 15105        1\n",
       " 770          1\n",
       " 23305        1\n",
       " 2835         1\n",
       " 26525        1\n",
       "Name: inctot, Length: 2048, dtype: int64"
      ]
     },
     "execution_count": 57,
     "metadata": {},
     "output_type": "execute_result"
    }
   ],
   "source": [
    "df['inctot'].value_counts()"
   ]
  },
  {
   "cell_type": "code",
   "execution_count": 58,
   "metadata": {},
   "outputs": [
    {
     "data": {
      "text/plain": [
       "0         2081\n",
       "999999    1811\n",
       "10005      112\n",
       "12005       88\n",
       "8005        85\n",
       "6005        78\n",
       "20005       77\n",
       "5005        73\n",
       "15005       71\n",
       "7005        71\n",
       "18005       66\n",
       "16005       65\n",
       "13005       60\n",
       "11005       56\n",
       "3005        55\n",
       "4005        55\n",
       "2005        49\n",
       "9005        49\n",
       "14005       44\n",
       "25005       43\n",
       "17005       38\n",
       "22005       34\n",
       "19005       31\n",
       "30005       30\n",
       "605         29\n",
       "1505        28\n",
       "21005       25\n",
       "24005       24\n",
       "1005        23\n",
       "1205        22\n",
       "          ... \n",
       "12925        1\n",
       "5495         1\n",
       "9585         1\n",
       "42345        1\n",
       "17765        1\n",
       "21855        1\n",
       "9565         1\n",
       "1365         1\n",
       "13795        1\n",
       "3535         1\n",
       "34285        1\n",
       "17905        1\n",
       "13975        1\n",
       "7625         1\n",
       "30335        1\n",
       "59005        1\n",
       "34405        1\n",
       "1625         1\n",
       "535          1\n",
       "12825        1\n",
       "25115        1\n",
       "37405        1\n",
       "5695         1\n",
       "5675         1\n",
       "555          1\n",
       "25135        1\n",
       "19915        1\n",
       "9725         1\n",
       "32205        1\n",
       "28475        1\n",
       "Name: incwage, Length: 1049, dtype: int64"
      ]
     },
     "execution_count": 58,
     "metadata": {},
     "output_type": "execute_result"
    }
   ],
   "source": [
    "df['incwage'].value_counts()"
   ]
  },
  {
   "cell_type": "code",
   "execution_count": 59,
   "metadata": {},
   "outputs": [
    {
     "data": {
      "text/plain": [
       " 0         5656\n",
       " 999999    1811\n",
       " 805          2\n",
       " 2005         1\n",
       " 3005         1\n",
       " 61005        1\n",
       " 505          1\n",
       " 705          1\n",
       " 1005         1\n",
       " 10005        1\n",
       "-1505         1\n",
       " 1255         1\n",
       " 3755         1\n",
       "-4005         1\n",
       " 55           1\n",
       " 75           1\n",
       " 435          1\n",
       " 455          1\n",
       " 2755         1\n",
       "Name: incfarm, dtype: int64"
      ]
     },
     "execution_count": 59,
     "metadata": {},
     "output_type": "execute_result"
    }
   ],
   "source": [
    "df['incfarm'].value_counts()"
   ]
  },
  {
   "cell_type": "code",
   "execution_count": 60,
   "metadata": {},
   "outputs": [
    {
     "data": {
      "text/plain": [
       " 0         5352\n",
       " 999999    1811\n",
       " 30005       12\n",
       " 5005        11\n",
       " 15005       10\n",
       " 3005         9\n",
       " 8005         9\n",
       " 10005        8\n",
       " 6005         7\n",
       " 20005        7\n",
       " 505          7\n",
       " 75000        6\n",
       " 40005        5\n",
       " 25005        5\n",
       " 2005         5\n",
       " 50005        5\n",
       " 7005         5\n",
       " 3505         5\n",
       " 4005         5\n",
       " 18005        4\n",
       " 1755         4\n",
       " 24005        3\n",
       " 14005        3\n",
       " 16005        3\n",
       " 35005        3\n",
       " 6255         3\n",
       " 5255         3\n",
       " 1005         3\n",
       "-4005         3\n",
       " 10505        3\n",
       "           ... \n",
       " 12305        1\n",
       " 255          1\n",
       " 22865        1\n",
       "-2385         1\n",
       "-1555         1\n",
       " 12805        1\n",
       " 42005        1\n",
       "-505          1\n",
       " 1205         1\n",
       "-1235         1\n",
       "-1255         1\n",
       " 1305         1\n",
       " 9505         1\n",
       " 1405         1\n",
       " 9605         1\n",
       " 5535         1\n",
       " 1605         1\n",
       "-2325         1\n",
       " 435          1\n",
       "-1755         1\n",
       " 1805         1\n",
       " 415          1\n",
       "-6005         1\n",
       " 26505        1\n",
       " 6055         1\n",
       "-345          1\n",
       " 6135         1\n",
       " 14505        1\n",
       " 12605        1\n",
       " 25505        1\n",
       "Name: incbus, Length: 165, dtype: int64"
      ]
     },
     "execution_count": 60,
     "metadata": {},
     "output_type": "execute_result"
    }
   ],
   "source": [
    "df['incbus'].value_counts()"
   ]
  },
  {
   "cell_type": "code",
   "execution_count": 61,
   "metadata": {},
   "outputs": [
    {
     "data": {
      "text/plain": [
       "0        5060\n",
       "99999    1684\n",
       "3605       20\n",
       "3005       15\n",
       "2405       13\n",
       "4805       13\n",
       "5005        9\n",
       "2505        9\n",
       "4005        8\n",
       "6005        8\n",
       "4205        8\n",
       "1205        7\n",
       "4325        7\n",
       "3575        7\n",
       "3505        7\n",
       "1855        6\n",
       "2005        6\n",
       "1655        6\n",
       "1955        6\n",
       "4085        6\n",
       "3655        6\n",
       "4055        5\n",
       "1805        5\n",
       "3555        5\n",
       "3055        5\n",
       "4645        4\n",
       "5045        4\n",
       "1745        4\n",
       "1605        4\n",
       "5505        4\n",
       "         ... \n",
       "4555        1\n",
       "595         1\n",
       "405         1\n",
       "4495        1\n",
       "4485        1\n",
       "4955        1\n",
       "865         1\n",
       "905         1\n",
       "5615        1\n",
       "5595        1\n",
       "1485        1\n",
       "1465        1\n",
       "5555        1\n",
       "1425        1\n",
       "175         1\n",
       "1385        1\n",
       "5475        1\n",
       "4285        1\n",
       "1285        1\n",
       "1265        1\n",
       "215         1\n",
       "1225        1\n",
       "5255        1\n",
       "255         1\n",
       "4385        1\n",
       "1085        1\n",
       "1045        1\n",
       "335         1\n",
       "5075        1\n",
       "2015        1\n",
       "Name: incss, Length: 362, dtype: int64"
      ]
     },
     "execution_count": 61,
     "metadata": {},
     "output_type": "execute_result"
    }
   ],
   "source": [
    "df['incss'].value_counts()"
   ]
  },
  {
   "cell_type": "code",
   "execution_count": 62,
   "metadata": {},
   "outputs": [
    {
     "data": {
      "text/plain": [
       "0        5455\n",
       "99999    1684\n",
       "4925        9\n",
       "3005        9\n",
       "355         7\n",
       "4005        7\n",
       "4275        6\n",
       "3605        6\n",
       "2455        5\n",
       "4205        5\n",
       "1255        5\n",
       "255         4\n",
       "3965        4\n",
       "155         4\n",
       "3955        4\n",
       "805         4\n",
       "1005        4\n",
       "3975        4\n",
       "3685        3\n",
       "4055        3\n",
       "1835        3\n",
       "4285        3\n",
       "3455        3\n",
       "2505        3\n",
       "6005        3\n",
       "1445        3\n",
       "5505        3\n",
       "5845        3\n",
       "605         3\n",
       "555         3\n",
       "         ... \n",
       "8235        1\n",
       "9005        1\n",
       "845         1\n",
       "4955        1\n",
       "965         1\n",
       "755         1\n",
       "1085        1\n",
       "1105        1\n",
       "655         1\n",
       "1265        1\n",
       "1285        1\n",
       "4665        1\n",
       "9525        1\n",
       "4545        1\n",
       "2155        1\n",
       "1505        1\n",
       "1525        1\n",
       "1565        1\n",
       "1665        1\n",
       "1685        1\n",
       "5795        1\n",
       "1725        1\n",
       "5835        1\n",
       "5855        1\n",
       "1805        1\n",
       "1825        1\n",
       "1845        1\n",
       "2045        1\n",
       "4465        1\n",
       "2005        1\n",
       "Name: incwelfr, Length: 207, dtype: int64"
      ]
     },
     "execution_count": 62,
     "metadata": {},
     "output_type": "execute_result"
    }
   ],
   "source": [
    "df['incwelfr'].value_counts()"
   ]
  },
  {
   "cell_type": "code",
   "execution_count": 63,
   "metadata": {},
   "outputs": [
    {
     "data": {
      "text/plain": [
       "0        5227\n",
       "99999    1684\n",
       "605        12\n",
       "2005       10\n",
       "1205       10\n",
       "4005        9\n",
       "1805        9\n",
       "1005        8\n",
       "2505        8\n",
       "505         8\n",
       "3605        7\n",
       "12005       7\n",
       "205         7\n",
       "305         7\n",
       "5005        7\n",
       "1505        7\n",
       "3255        6\n",
       "10005       6\n",
       "805         6\n",
       "905         6\n",
       "485         6\n",
       "6005        6\n",
       "3005        6\n",
       "965         5\n",
       "1055        5\n",
       "65          5\n",
       "2755        5\n",
       "355         5\n",
       "555         5\n",
       "655         5\n",
       "         ... \n",
       "665         1\n",
       "21005       1\n",
       "645         1\n",
       "8805        1\n",
       "3895        1\n",
       "8745        1\n",
       "395         1\n",
       "4385        1\n",
       "6105        1\n",
       "1165        1\n",
       "1685        1\n",
       "1665        1\n",
       "1645        1\n",
       "175         1\n",
       "4285        1\n",
       "195         1\n",
       "1465        1\n",
       "1445        1\n",
       "235         1\n",
       "1345        1\n",
       "1325        1\n",
       "5415        1\n",
       "9505        1\n",
       "275         1\n",
       "1285        1\n",
       "5165        1\n",
       "1245        1\n",
       "1225        1\n",
       "9755        1\n",
       "6125        1\n",
       "Name: incother, Length: 283, dtype: int64"
      ]
     },
     "execution_count": 63,
     "metadata": {},
     "output_type": "execute_result"
    }
   ],
   "source": [
    "df['incother'].value_counts()"
   ]
  },
  {
   "cell_type": "code",
   "execution_count": 64,
   "metadata": {},
   "outputs": [
    {
     "data": {
      "text/plain": [
       "501    1676\n",
       "1       164\n",
       "0       132\n",
       "79       39\n",
       "211      35\n",
       "203      35\n",
       "185      33\n",
       "119      31\n",
       "106      31\n",
       "316      31\n",
       "264      29\n",
       "325      27\n",
       "207      27\n",
       "102      26\n",
       "406      26\n",
       "352      26\n",
       "159      26\n",
       "237      25\n",
       "287      25\n",
       "395      24\n",
       "246      24\n",
       "108      23\n",
       "132      23\n",
       "222      23\n",
       "299      23\n",
       "230      23\n",
       "153      23\n",
       "348      23\n",
       "189      23\n",
       "172      22\n",
       "       ... \n",
       "4         3\n",
       "12        3\n",
       "407       3\n",
       "440       3\n",
       "436       3\n",
       "28        3\n",
       "20        3\n",
       "5         3\n",
       "397       3\n",
       "17        3\n",
       "31        3\n",
       "357       3\n",
       "469       3\n",
       "382       3\n",
       "244       3\n",
       "49        3\n",
       "45        3\n",
       "25        3\n",
       "413       3\n",
       "470       2\n",
       "464       2\n",
       "475       2\n",
       "11        2\n",
       "44        1\n",
       "486       1\n",
       "42        1\n",
       "2         1\n",
       "8         1\n",
       "15        1\n",
       "499       1\n",
       "Name: poverty, Length: 501, dtype: int64"
      ]
     },
     "execution_count": 64,
     "metadata": {},
     "output_type": "execute_result"
    }
   ],
   "source": [
    "df['poverty'].value_counts()"
   ]
  },
  {
   "cell_type": "code",
   "execution_count": 65,
   "metadata": {},
   "outputs": [
    {
     "data": {
      "text/plain": [
       "Same_house                          3517\n",
       "Same_state_countydifferent_house    2586\n",
       "Abroad                               541\n",
       "Different_state                      492\n",
       "Same_state_different_county          346\n",
       "0                                      3\n",
       "Name: migrat5g, dtype: int64"
      ]
     },
     "execution_count": 65,
     "metadata": {},
     "output_type": "execute_result"
    }
   ],
   "source": [
    "df['migrat5g'].value_counts()"
   ]
  },
  {
   "cell_type": "code",
   "execution_count": 66,
   "metadata": {},
   "outputs": [
    {
     "data": {
      "text/plain": [
       "0    4802\n",
       "2     860\n",
       "1     726\n",
       "5     412\n",
       "6     401\n",
       "7     213\n",
       "8      71\n",
       "Name: movedin, dtype: int64"
      ]
     },
     "execution_count": 66,
     "metadata": {},
     "output_type": "execute_result"
    }
   ],
   "source": [
    "df['movedin'].value_counts() ## target variable"
   ]
  },
  {
   "cell_type": "code",
   "execution_count": 67,
   "metadata": {},
   "outputs": [
    {
     "data": {
      "text/plain": [
       "No_Service    6318\n",
       "Yes           1163\n",
       "0                4\n",
       "Name: vetstat, dtype: int64"
      ]
     },
     "execution_count": 67,
     "metadata": {},
     "output_type": "execute_result"
    }
   ],
   "source": [
    "df['vetstat'].value_counts()"
   ]
  },
  {
   "cell_type": "code",
   "execution_count": 68,
   "metadata": {},
   "outputs": [
    {
     "data": {
      "text/plain": [
       "Auto                5715\n",
       "Bus_or_streetcar     499\n",
       "Truck                484\n",
       "Walked_only          331\n",
       "Van                  185\n",
       "Worked_at_home       109\n",
       "Motorcycle            71\n",
       "Bicycle               45\n",
       "Other                 40\n",
       "0                      5\n",
       "Taxicab                1\n",
       "Name: tranwork, dtype: int64"
      ]
     },
     "execution_count": 68,
     "metadata": {},
     "output_type": "execute_result"
    }
   ],
   "source": [
    "df['tranwork'].value_counts()"
   ]
  },
  {
   "cell_type": "code",
   "execution_count": 69,
   "metadata": {},
   "outputs": [
    {
     "data": {
      "text/html": [
       "<div>\n",
       "<style scoped>\n",
       "    .dataframe tbody tr th:only-of-type {\n",
       "        vertical-align: middle;\n",
       "    }\n",
       "\n",
       "    .dataframe tbody tr th {\n",
       "        vertical-align: top;\n",
       "    }\n",
       "\n",
       "    .dataframe thead th {\n",
       "        text-align: right;\n",
       "    }\n",
       "</style>\n",
       "<table border=\"1\" class=\"dataframe\">\n",
       "  <thead>\n",
       "    <tr style=\"text-align: right;\">\n",
       "      <th></th>\n",
       "      <th>year</th>\n",
       "      <th>gq</th>\n",
       "      <th>gqtypeg</th>\n",
       "      <th>farm</th>\n",
       "      <th>ownershg</th>\n",
       "      <th>value</th>\n",
       "      <th>rent</th>\n",
       "      <th>ftotinc</th>\n",
       "      <th>nfams</th>\n",
       "      <th>ncouples</th>\n",
       "      <th>...</th>\n",
       "      <th>incfarm</th>\n",
       "      <th>incss</th>\n",
       "      <th>incwelfr</th>\n",
       "      <th>incother</th>\n",
       "      <th>poverty</th>\n",
       "      <th>migrat5g</th>\n",
       "      <th>migplac5</th>\n",
       "      <th>movedin</th>\n",
       "      <th>vetstat</th>\n",
       "      <th>tranwork</th>\n",
       "    </tr>\n",
       "  </thead>\n",
       "  <tbody>\n",
       "    <tr>\n",
       "      <th>0</th>\n",
       "      <td>98</td>\n",
       "      <td>HH_in_1970_definition_but_sampled_as_larger_unit</td>\n",
       "      <td>NA_(household)</td>\n",
       "      <td>Non-Farm</td>\n",
       "      <td>Rented</td>\n",
       "      <td>999999</td>\n",
       "      <td>325</td>\n",
       "      <td>9505</td>\n",
       "      <td>1</td>\n",
       "      <td>1</td>\n",
       "      <td>...</td>\n",
       "      <td>0</td>\n",
       "      <td>0</td>\n",
       "      <td>0</td>\n",
       "      <td>0</td>\n",
       "      <td>128</td>\n",
       "      <td>Same_state_countydifferent_house</td>\n",
       "      <td>California</td>\n",
       "      <td>0</td>\n",
       "      <td>No_Service</td>\n",
       "      <td>Bus_or_streetcar</td>\n",
       "    </tr>\n",
       "    <tr>\n",
       "      <th>1</th>\n",
       "      <td>98</td>\n",
       "      <td>HH_in_1970_definition_but_sampled_as_larger_unit</td>\n",
       "      <td>NA_(household)</td>\n",
       "      <td>Non-Farm</td>\n",
       "      <td>Rented</td>\n",
       "      <td>999999</td>\n",
       "      <td>287</td>\n",
       "      <td>8005</td>\n",
       "      <td>1</td>\n",
       "      <td>0</td>\n",
       "      <td>...</td>\n",
       "      <td>0</td>\n",
       "      <td>0</td>\n",
       "      <td>0</td>\n",
       "      <td>0</td>\n",
       "      <td>211</td>\n",
       "      <td>Same_state_countydifferent_house</td>\n",
       "      <td>California</td>\n",
       "      <td>1</td>\n",
       "      <td>No_Service</td>\n",
       "      <td>Walked_only</td>\n",
       "    </tr>\n",
       "    <tr>\n",
       "      <th>2</th>\n",
       "      <td>98</td>\n",
       "      <td>HH_in_1970_definition_but_sampled_as_larger_unit</td>\n",
       "      <td>NA_(household)</td>\n",
       "      <td>Non-Farm</td>\n",
       "      <td>Owned_or_being_bought_(loan)</td>\n",
       "      <td>85000</td>\n",
       "      <td>0</td>\n",
       "      <td>29635</td>\n",
       "      <td>1</td>\n",
       "      <td>1</td>\n",
       "      <td>...</td>\n",
       "      <td>999999</td>\n",
       "      <td>99999</td>\n",
       "      <td>99999</td>\n",
       "      <td>99999</td>\n",
       "      <td>304</td>\n",
       "      <td>Same_house</td>\n",
       "      <td>Same_house</td>\n",
       "      <td>0</td>\n",
       "      <td>No_Service</td>\n",
       "      <td>Auto</td>\n",
       "    </tr>\n",
       "    <tr>\n",
       "      <th>3</th>\n",
       "      <td>98</td>\n",
       "      <td>HH_in_1970_definition_but_sampled_as_larger_unit</td>\n",
       "      <td>NA_(household)</td>\n",
       "      <td>Non-Farm</td>\n",
       "      <td>Owned_or_being_bought_(loan)</td>\n",
       "      <td>999999</td>\n",
       "      <td>0</td>\n",
       "      <td>52895</td>\n",
       "      <td>1</td>\n",
       "      <td>1</td>\n",
       "      <td>...</td>\n",
       "      <td>0</td>\n",
       "      <td>0</td>\n",
       "      <td>0</td>\n",
       "      <td>0</td>\n",
       "      <td>501</td>\n",
       "      <td>Same_house</td>\n",
       "      <td>Same_house</td>\n",
       "      <td>0</td>\n",
       "      <td>No_Service</td>\n",
       "      <td>Walked_only</td>\n",
       "    </tr>\n",
       "    <tr>\n",
       "      <th>4</th>\n",
       "      <td>98</td>\n",
       "      <td>HH_in_1970_definition_but_sampled_as_larger_unit</td>\n",
       "      <td>NA_(household)</td>\n",
       "      <td>Non-Farm</td>\n",
       "      <td>Rented</td>\n",
       "      <td>999999</td>\n",
       "      <td>185</td>\n",
       "      <td>7610</td>\n",
       "      <td>2</td>\n",
       "      <td>0</td>\n",
       "      <td>...</td>\n",
       "      <td>0</td>\n",
       "      <td>0</td>\n",
       "      <td>0</td>\n",
       "      <td>0</td>\n",
       "      <td>119</td>\n",
       "      <td>Same_state_countydifferent_house</td>\n",
       "      <td>California</td>\n",
       "      <td>0</td>\n",
       "      <td>No_Service</td>\n",
       "      <td>Auto</td>\n",
       "    </tr>\n",
       "  </tbody>\n",
       "</table>\n",
       "<p>5 rows × 61 columns</p>\n",
       "</div>"
      ],
      "text/plain": [
       "   year                                                gq         gqtypeg  \\\n",
       "0    98  HH_in_1970_definition_but_sampled_as_larger_unit  NA_(household)   \n",
       "1    98  HH_in_1970_definition_but_sampled_as_larger_unit  NA_(household)   \n",
       "2    98  HH_in_1970_definition_but_sampled_as_larger_unit  NA_(household)   \n",
       "3    98  HH_in_1970_definition_but_sampled_as_larger_unit  NA_(household)   \n",
       "4    98  HH_in_1970_definition_but_sampled_as_larger_unit  NA_(household)   \n",
       "\n",
       "       farm                      ownershg   value  rent  ftotinc  nfams  \\\n",
       "0  Non-Farm                        Rented  999999   325     9505      1   \n",
       "1  Non-Farm                        Rented  999999   287     8005      1   \n",
       "2  Non-Farm  Owned_or_being_bought_(loan)   85000     0    29635      1   \n",
       "3  Non-Farm  Owned_or_being_bought_(loan)  999999     0    52895      1   \n",
       "4  Non-Farm                        Rented  999999   185     7610      2   \n",
       "\n",
       "   ncouples  ...  incfarm  incss  incwelfr  incother  poverty  \\\n",
       "0         1  ...        0      0         0         0      128   \n",
       "1         0  ...        0      0         0         0      211   \n",
       "2         1  ...   999999  99999     99999     99999      304   \n",
       "3         1  ...        0      0         0         0      501   \n",
       "4         0  ...        0      0         0         0      119   \n",
       "\n",
       "                           migrat5g    migplac5  movedin     vetstat  \\\n",
       "0  Same_state_countydifferent_house  California        0  No_Service   \n",
       "1  Same_state_countydifferent_house  California        1  No_Service   \n",
       "2                        Same_house  Same_house        0  No_Service   \n",
       "3                        Same_house  Same_house        0  No_Service   \n",
       "4  Same_state_countydifferent_house  California        0  No_Service   \n",
       "\n",
       "           tranwork  \n",
       "0  Bus_or_streetcar  \n",
       "1       Walked_only  \n",
       "2              Auto  \n",
       "3       Walked_only  \n",
       "4              Auto  \n",
       "\n",
       "[5 rows x 61 columns]"
      ]
     },
     "execution_count": 69,
     "metadata": {},
     "output_type": "execute_result"
    }
   ],
   "source": [
    "# INSERTING THE DATA INTO NEW NAME\n",
    "ip=df\n",
    "ip.head(5)"
   ]
  },
  {
   "cell_type": "markdown",
   "metadata": {},
   "source": [
    "#### CONVERTING THE TWO CATEGORIES AS \"0\" AND \"1\"\n",
    "#### FOR EXAMPLE:- FEMALE AS \"1\" AND MALE AS \"0\""
   ]
  },
  {
   "cell_type": "code",
   "execution_count": 70,
   "metadata": {},
   "outputs": [
    {
     "data": {
      "text/plain": [
       "1    3878\n",
       "0    3607\n",
       "Name: sex, dtype: int64"
      ]
     },
     "execution_count": 70,
     "metadata": {},
     "output_type": "execute_result"
    }
   ],
   "source": [
    "ip['sex']=[1 if x=='Female' else 0 for x in ip['sex']]\n",
    "ip['sex'].value_counts()"
   ]
  },
  {
   "cell_type": "code",
   "execution_count": 71,
   "metadata": {},
   "outputs": [
    {
     "data": {
      "text/plain": [
       "0    5314\n",
       "1    2171\n",
       "Name: school, dtype: int64"
      ]
     },
     "execution_count": 71,
     "metadata": {},
     "output_type": "execute_result"
    }
   ],
   "source": [
    "ip['school']=[1 if x=='Yes_in_school' else 0 for x in ip['school']]\n",
    "ip['school'].value_counts()"
   ]
  },
  {
   "cell_type": "code",
   "execution_count": 72,
   "metadata": {},
   "outputs": [
    {
     "data": {
      "text/plain": [
       "0    7482\n",
       "1       3\n",
       "Name: farm, dtype: int64"
      ]
     },
     "execution_count": 72,
     "metadata": {},
     "output_type": "execute_result"
    }
   ],
   "source": [
    "ip['farm']=[1 if x=='Farm' else 0 for x in ip['farm']]\n",
    "ip['farm'].value_counts()"
   ]
  },
  {
   "cell_type": "code",
   "execution_count": 73,
   "metadata": {},
   "outputs": [
    {
     "data": {
      "text/plain": [
       "0    4169\n",
       "1    3316\n",
       "Name: ownershg, dtype: int64"
      ]
     },
     "execution_count": 73,
     "metadata": {},
     "output_type": "execute_result"
    }
   ],
   "source": [
    "ip['ownershg']=[1 if x=='Rented' else 0 for x in ip['ownershg']]\n",
    "ip['ownershg'].value_counts()"
   ]
  },
  {
   "cell_type": "code",
   "execution_count": 74,
   "metadata": {},
   "outputs": [
    {
     "data": {
      "text/html": [
       "<div>\n",
       "<style scoped>\n",
       "    .dataframe tbody tr th:only-of-type {\n",
       "        vertical-align: middle;\n",
       "    }\n",
       "\n",
       "    .dataframe tbody tr th {\n",
       "        vertical-align: top;\n",
       "    }\n",
       "\n",
       "    .dataframe thead th {\n",
       "        text-align: right;\n",
       "    }\n",
       "</style>\n",
       "<table border=\"1\" class=\"dataframe\">\n",
       "  <thead>\n",
       "    <tr style=\"text-align: right;\">\n",
       "      <th></th>\n",
       "      <th>year</th>\n",
       "      <th>gq</th>\n",
       "      <th>gqtypeg</th>\n",
       "      <th>farm</th>\n",
       "      <th>ownershg</th>\n",
       "      <th>value</th>\n",
       "      <th>rent</th>\n",
       "      <th>ftotinc</th>\n",
       "      <th>nfams</th>\n",
       "      <th>ncouples</th>\n",
       "      <th>...</th>\n",
       "      <th>incfarm</th>\n",
       "      <th>incss</th>\n",
       "      <th>incwelfr</th>\n",
       "      <th>incother</th>\n",
       "      <th>poverty</th>\n",
       "      <th>migrat5g</th>\n",
       "      <th>migplac5</th>\n",
       "      <th>movedin</th>\n",
       "      <th>vetstat</th>\n",
       "      <th>tranwork</th>\n",
       "    </tr>\n",
       "  </thead>\n",
       "  <tbody>\n",
       "    <tr>\n",
       "      <th>0</th>\n",
       "      <td>98</td>\n",
       "      <td>HH_in_1970_definition_but_sampled_as_larger_unit</td>\n",
       "      <td>NA_(household)</td>\n",
       "      <td>0</td>\n",
       "      <td>1</td>\n",
       "      <td>999999</td>\n",
       "      <td>325</td>\n",
       "      <td>9505</td>\n",
       "      <td>1</td>\n",
       "      <td>1</td>\n",
       "      <td>...</td>\n",
       "      <td>0</td>\n",
       "      <td>0</td>\n",
       "      <td>0</td>\n",
       "      <td>0</td>\n",
       "      <td>128</td>\n",
       "      <td>Same_state_countydifferent_house</td>\n",
       "      <td>California</td>\n",
       "      <td>0</td>\n",
       "      <td>No_Service</td>\n",
       "      <td>Bus_or_streetcar</td>\n",
       "    </tr>\n",
       "    <tr>\n",
       "      <th>1</th>\n",
       "      <td>98</td>\n",
       "      <td>HH_in_1970_definition_but_sampled_as_larger_unit</td>\n",
       "      <td>NA_(household)</td>\n",
       "      <td>0</td>\n",
       "      <td>1</td>\n",
       "      <td>999999</td>\n",
       "      <td>287</td>\n",
       "      <td>8005</td>\n",
       "      <td>1</td>\n",
       "      <td>0</td>\n",
       "      <td>...</td>\n",
       "      <td>0</td>\n",
       "      <td>0</td>\n",
       "      <td>0</td>\n",
       "      <td>0</td>\n",
       "      <td>211</td>\n",
       "      <td>Same_state_countydifferent_house</td>\n",
       "      <td>California</td>\n",
       "      <td>1</td>\n",
       "      <td>No_Service</td>\n",
       "      <td>Walked_only</td>\n",
       "    </tr>\n",
       "    <tr>\n",
       "      <th>2</th>\n",
       "      <td>98</td>\n",
       "      <td>HH_in_1970_definition_but_sampled_as_larger_unit</td>\n",
       "      <td>NA_(household)</td>\n",
       "      <td>0</td>\n",
       "      <td>0</td>\n",
       "      <td>85000</td>\n",
       "      <td>0</td>\n",
       "      <td>29635</td>\n",
       "      <td>1</td>\n",
       "      <td>1</td>\n",
       "      <td>...</td>\n",
       "      <td>999999</td>\n",
       "      <td>99999</td>\n",
       "      <td>99999</td>\n",
       "      <td>99999</td>\n",
       "      <td>304</td>\n",
       "      <td>Same_house</td>\n",
       "      <td>Same_house</td>\n",
       "      <td>0</td>\n",
       "      <td>No_Service</td>\n",
       "      <td>Auto</td>\n",
       "    </tr>\n",
       "    <tr>\n",
       "      <th>3</th>\n",
       "      <td>98</td>\n",
       "      <td>HH_in_1970_definition_but_sampled_as_larger_unit</td>\n",
       "      <td>NA_(household)</td>\n",
       "      <td>0</td>\n",
       "      <td>0</td>\n",
       "      <td>999999</td>\n",
       "      <td>0</td>\n",
       "      <td>52895</td>\n",
       "      <td>1</td>\n",
       "      <td>1</td>\n",
       "      <td>...</td>\n",
       "      <td>0</td>\n",
       "      <td>0</td>\n",
       "      <td>0</td>\n",
       "      <td>0</td>\n",
       "      <td>501</td>\n",
       "      <td>Same_house</td>\n",
       "      <td>Same_house</td>\n",
       "      <td>0</td>\n",
       "      <td>No_Service</td>\n",
       "      <td>Walked_only</td>\n",
       "    </tr>\n",
       "    <tr>\n",
       "      <th>4</th>\n",
       "      <td>98</td>\n",
       "      <td>HH_in_1970_definition_but_sampled_as_larger_unit</td>\n",
       "      <td>NA_(household)</td>\n",
       "      <td>0</td>\n",
       "      <td>1</td>\n",
       "      <td>999999</td>\n",
       "      <td>185</td>\n",
       "      <td>7610</td>\n",
       "      <td>2</td>\n",
       "      <td>0</td>\n",
       "      <td>...</td>\n",
       "      <td>0</td>\n",
       "      <td>0</td>\n",
       "      <td>0</td>\n",
       "      <td>0</td>\n",
       "      <td>119</td>\n",
       "      <td>Same_state_countydifferent_house</td>\n",
       "      <td>California</td>\n",
       "      <td>0</td>\n",
       "      <td>No_Service</td>\n",
       "      <td>Auto</td>\n",
       "    </tr>\n",
       "  </tbody>\n",
       "</table>\n",
       "<p>5 rows × 61 columns</p>\n",
       "</div>"
      ],
      "text/plain": [
       "   year                                                gq         gqtypeg  \\\n",
       "0    98  HH_in_1970_definition_but_sampled_as_larger_unit  NA_(household)   \n",
       "1    98  HH_in_1970_definition_but_sampled_as_larger_unit  NA_(household)   \n",
       "2    98  HH_in_1970_definition_but_sampled_as_larger_unit  NA_(household)   \n",
       "3    98  HH_in_1970_definition_but_sampled_as_larger_unit  NA_(household)   \n",
       "4    98  HH_in_1970_definition_but_sampled_as_larger_unit  NA_(household)   \n",
       "\n",
       "   farm  ownershg   value  rent  ftotinc  nfams  ncouples  ...  incfarm  \\\n",
       "0     0         1  999999   325     9505      1         1  ...        0   \n",
       "1     0         1  999999   287     8005      1         0  ...        0   \n",
       "2     0         0   85000     0    29635      1         1  ...   999999   \n",
       "3     0         0  999999     0    52895      1         1  ...        0   \n",
       "4     0         1  999999   185     7610      2         0  ...        0   \n",
       "\n",
       "   incss  incwelfr  incother  poverty                          migrat5g  \\\n",
       "0      0         0         0      128  Same_state_countydifferent_house   \n",
       "1      0         0         0      211  Same_state_countydifferent_house   \n",
       "2  99999     99999     99999      304                        Same_house   \n",
       "3      0         0         0      501                        Same_house   \n",
       "4      0         0         0      119  Same_state_countydifferent_house   \n",
       "\n",
       "     migplac5  movedin     vetstat          tranwork  \n",
       "0  California        0  No_Service  Bus_or_streetcar  \n",
       "1  California        1  No_Service       Walked_only  \n",
       "2  Same_house        0  No_Service              Auto  \n",
       "3  Same_house        0  No_Service       Walked_only  \n",
       "4  California        0  No_Service              Auto  \n",
       "\n",
       "[5 rows x 61 columns]"
      ]
     },
     "execution_count": 74,
     "metadata": {},
     "output_type": "execute_result"
    }
   ],
   "source": [
    "ip.head(5)"
   ]
  },
  {
   "cell_type": "code",
   "execution_count": 75,
   "metadata": {},
   "outputs": [
    {
     "name": "stdout",
     "output_type": "stream",
     "text": [
      "<class 'pandas.core.frame.DataFrame'>\n",
      "RangeIndex: 7485 entries, 0 to 7484\n",
      "Data columns (total 61 columns):\n",
      "year        7485 non-null int64\n",
      "gq          7485 non-null object\n",
      "gqtypeg     7485 non-null object\n",
      "farm        7485 non-null int64\n",
      "ownershg    7485 non-null int64\n",
      "value       7485 non-null int64\n",
      "rent        7485 non-null int64\n",
      "ftotinc     7485 non-null int64\n",
      "nfams       7485 non-null int64\n",
      "ncouples    7485 non-null int64\n",
      "nmothers    7485 non-null int64\n",
      "nfathers    7485 non-null int64\n",
      "momloc      7485 non-null int64\n",
      "stepmom     7485 non-null int64\n",
      "momrule     7485 non-null int64\n",
      "poploc      7485 non-null int64\n",
      "steppop     7485 non-null int64\n",
      "poprule     7485 non-null int64\n",
      "sploc       7485 non-null int64\n",
      "sprule      7485 non-null int64\n",
      "famsize     7485 non-null int64\n",
      "nchild      7485 non-null int64\n",
      "nchlt5      7485 non-null int64\n",
      "famunit     7485 non-null int64\n",
      "eldch       7485 non-null int64\n",
      "yngch       7485 non-null int64\n",
      "nsibs       7485 non-null int64\n",
      "relateg     7485 non-null object\n",
      "age         7485 non-null int64\n",
      "sex         7485 non-null int64\n",
      "raceg       7485 non-null object\n",
      "marst       7485 non-null object\n",
      "chborn      7485 non-null object\n",
      "bplg        7485 non-null object\n",
      "school      7485 non-null int64\n",
      "educrec     7485 non-null object\n",
      "schltype    7485 non-null object\n",
      "empstatg    7485 non-null object\n",
      "labforce    7485 non-null object\n",
      "occ1950     7485 non-null object\n",
      "occscore    7485 non-null int64\n",
      "sei         7485 non-null int64\n",
      "ind1950     7485 non-null object\n",
      "classwkg    7485 non-null object\n",
      "wkswork2    7485 non-null object\n",
      "hrswork2    7485 non-null object\n",
      "yrlastwk    7485 non-null object\n",
      "workedyr    7485 non-null object\n",
      "inctot      7485 non-null int64\n",
      "incwage     7485 non-null int64\n",
      "incbus      7485 non-null int64\n",
      "incfarm     7485 non-null int64\n",
      "incss       7485 non-null int64\n",
      "incwelfr    7485 non-null int64\n",
      "incother    7485 non-null int64\n",
      "poverty     7485 non-null int64\n",
      "migrat5g    7485 non-null object\n",
      "migplac5    7485 non-null object\n",
      "movedin     7485 non-null int64\n",
      "vetstat     7485 non-null object\n",
      "tranwork    7485 non-null object\n",
      "dtypes: int64(39), object(22)\n",
      "memory usage: 3.5+ MB\n"
     ]
    }
   ],
   "source": [
    "#CHECKING THE NO OF NUMERICAL AND CATEGORICAL COLUMNS IN THE DATASET\n",
    "ip.info()"
   ]
  },
  {
   "cell_type": "markdown",
   "metadata": {},
   "source": [
    "### ALL NUMERICAL COLUMNS"
   ]
  },
  {
   "cell_type": "code",
   "execution_count": 76,
   "metadata": {},
   "outputs": [],
   "source": [
    "#PASSING ALL THE NUMERICAL COLUMNS INTO A LIST\n",
    "List=['year','farm','ownershg','value','rent','ftotinc','nfams','ncouples','nmothers','nfathers','momloc','stepmom','momrule','poploc',\n",
    "    'steppop','poprule','sploc','sprule','famsize','nchild','nchlt5','famunit','eldch','yngch','nsibs','age','sex','school','occscore'\n",
    "    'sei','incwage','inctot','incfarm','incbus','incss','incwelfr','incother','poverty']"
   ]
  },
  {
   "cell_type": "code",
   "execution_count": 77,
   "metadata": {
    "scrolled": true
   },
   "outputs": [
    {
     "name": "stderr",
     "output_type": "stream",
     "text": [
      "C:\\ProgramData\\Anaconda3\\lib\\site-packages\\pandas\\core\\indexing.py:1494: FutureWarning: \n",
      "Passing list-likes to .loc or [] with any missing label will raise\n",
      "KeyError in the future, you can use .reindex() as an alternative.\n",
      "\n",
      "See the documentation here:\n",
      "https://pandas.pydata.org/pandas-docs/stable/indexing.html#deprecate-loc-reindex-listlike\n",
      "  return self._getitem_tuple(key)\n"
     ]
    }
   ],
   "source": [
    "#GIVING ALL THE NUMERICAL COLUMNS\n",
    "ip1=ip.loc[:, List]"
   ]
  },
  {
   "cell_type": "code",
   "execution_count": 78,
   "metadata": {
    "scrolled": true
   },
   "outputs": [
    {
     "data": {
      "text/html": [
       "<div>\n",
       "<style scoped>\n",
       "    .dataframe tbody tr th:only-of-type {\n",
       "        vertical-align: middle;\n",
       "    }\n",
       "\n",
       "    .dataframe tbody tr th {\n",
       "        vertical-align: top;\n",
       "    }\n",
       "\n",
       "    .dataframe thead th {\n",
       "        text-align: right;\n",
       "    }\n",
       "</style>\n",
       "<table border=\"1\" class=\"dataframe\">\n",
       "  <thead>\n",
       "    <tr style=\"text-align: right;\">\n",
       "      <th></th>\n",
       "      <th>year</th>\n",
       "      <th>farm</th>\n",
       "      <th>ownershg</th>\n",
       "      <th>value</th>\n",
       "      <th>rent</th>\n",
       "      <th>ftotinc</th>\n",
       "      <th>nfams</th>\n",
       "      <th>ncouples</th>\n",
       "      <th>nmothers</th>\n",
       "      <th>nfathers</th>\n",
       "      <th>...</th>\n",
       "      <th>school</th>\n",
       "      <th>occscoresei</th>\n",
       "      <th>incwage</th>\n",
       "      <th>inctot</th>\n",
       "      <th>incfarm</th>\n",
       "      <th>incbus</th>\n",
       "      <th>incss</th>\n",
       "      <th>incwelfr</th>\n",
       "      <th>incother</th>\n",
       "      <th>poverty</th>\n",
       "    </tr>\n",
       "  </thead>\n",
       "  <tbody>\n",
       "    <tr>\n",
       "      <th>0</th>\n",
       "      <td>98</td>\n",
       "      <td>0</td>\n",
       "      <td>1</td>\n",
       "      <td>999999</td>\n",
       "      <td>325</td>\n",
       "      <td>9505</td>\n",
       "      <td>1</td>\n",
       "      <td>1</td>\n",
       "      <td>1</td>\n",
       "      <td>1</td>\n",
       "      <td>...</td>\n",
       "      <td>0</td>\n",
       "      <td>NaN</td>\n",
       "      <td>0</td>\n",
       "      <td>0</td>\n",
       "      <td>0</td>\n",
       "      <td>0</td>\n",
       "      <td>0</td>\n",
       "      <td>0</td>\n",
       "      <td>0</td>\n",
       "      <td>128</td>\n",
       "    </tr>\n",
       "    <tr>\n",
       "      <th>1</th>\n",
       "      <td>98</td>\n",
       "      <td>0</td>\n",
       "      <td>1</td>\n",
       "      <td>999999</td>\n",
       "      <td>287</td>\n",
       "      <td>8005</td>\n",
       "      <td>1</td>\n",
       "      <td>0</td>\n",
       "      <td>0</td>\n",
       "      <td>0</td>\n",
       "      <td>...</td>\n",
       "      <td>0</td>\n",
       "      <td>NaN</td>\n",
       "      <td>8005</td>\n",
       "      <td>8005</td>\n",
       "      <td>0</td>\n",
       "      <td>0</td>\n",
       "      <td>0</td>\n",
       "      <td>0</td>\n",
       "      <td>0</td>\n",
       "      <td>211</td>\n",
       "    </tr>\n",
       "    <tr>\n",
       "      <th>2</th>\n",
       "      <td>98</td>\n",
       "      <td>0</td>\n",
       "      <td>0</td>\n",
       "      <td>85000</td>\n",
       "      <td>0</td>\n",
       "      <td>29635</td>\n",
       "      <td>1</td>\n",
       "      <td>1</td>\n",
       "      <td>1</td>\n",
       "      <td>1</td>\n",
       "      <td>...</td>\n",
       "      <td>1</td>\n",
       "      <td>NaN</td>\n",
       "      <td>999999</td>\n",
       "      <td>999999</td>\n",
       "      <td>999999</td>\n",
       "      <td>999999</td>\n",
       "      <td>99999</td>\n",
       "      <td>99999</td>\n",
       "      <td>99999</td>\n",
       "      <td>304</td>\n",
       "    </tr>\n",
       "    <tr>\n",
       "      <th>3</th>\n",
       "      <td>98</td>\n",
       "      <td>0</td>\n",
       "      <td>0</td>\n",
       "      <td>999999</td>\n",
       "      <td>0</td>\n",
       "      <td>52895</td>\n",
       "      <td>1</td>\n",
       "      <td>1</td>\n",
       "      <td>1</td>\n",
       "      <td>1</td>\n",
       "      <td>...</td>\n",
       "      <td>1</td>\n",
       "      <td>NaN</td>\n",
       "      <td>0</td>\n",
       "      <td>0</td>\n",
       "      <td>0</td>\n",
       "      <td>0</td>\n",
       "      <td>0</td>\n",
       "      <td>0</td>\n",
       "      <td>0</td>\n",
       "      <td>501</td>\n",
       "    </tr>\n",
       "    <tr>\n",
       "      <th>4</th>\n",
       "      <td>98</td>\n",
       "      <td>0</td>\n",
       "      <td>1</td>\n",
       "      <td>999999</td>\n",
       "      <td>185</td>\n",
       "      <td>7610</td>\n",
       "      <td>2</td>\n",
       "      <td>0</td>\n",
       "      <td>0</td>\n",
       "      <td>0</td>\n",
       "      <td>...</td>\n",
       "      <td>1</td>\n",
       "      <td>NaN</td>\n",
       "      <td>4505</td>\n",
       "      <td>4520</td>\n",
       "      <td>0</td>\n",
       "      <td>0</td>\n",
       "      <td>0</td>\n",
       "      <td>0</td>\n",
       "      <td>0</td>\n",
       "      <td>119</td>\n",
       "    </tr>\n",
       "  </tbody>\n",
       "</table>\n",
       "<p>5 rows × 37 columns</p>\n",
       "</div>"
      ],
      "text/plain": [
       "   year  farm  ownershg   value  rent  ftotinc  nfams  ncouples  nmothers  \\\n",
       "0    98     0         1  999999   325     9505      1         1         1   \n",
       "1    98     0         1  999999   287     8005      1         0         0   \n",
       "2    98     0         0   85000     0    29635      1         1         1   \n",
       "3    98     0         0  999999     0    52895      1         1         1   \n",
       "4    98     0         1  999999   185     7610      2         0         0   \n",
       "\n",
       "   nfathers  ...  school  occscoresei  incwage  inctot  incfarm  incbus  \\\n",
       "0         1  ...       0          NaN        0       0        0       0   \n",
       "1         0  ...       0          NaN     8005    8005        0       0   \n",
       "2         1  ...       1          NaN   999999  999999   999999  999999   \n",
       "3         1  ...       1          NaN        0       0        0       0   \n",
       "4         0  ...       1          NaN     4505    4520        0       0   \n",
       "\n",
       "   incss  incwelfr  incother  poverty  \n",
       "0      0         0         0      128  \n",
       "1      0         0         0      211  \n",
       "2  99999     99999     99999      304  \n",
       "3      0         0         0      501  \n",
       "4      0         0         0      119  \n",
       "\n",
       "[5 rows x 37 columns]"
      ]
     },
     "execution_count": 78,
     "metadata": {},
     "output_type": "execute_result"
    }
   ],
   "source": [
    "ip1.head()"
   ]
  },
  {
   "cell_type": "code",
   "execution_count": 79,
   "metadata": {},
   "outputs": [
    {
     "data": {
      "text/plain": [
       "Index(['year', 'farm', 'ownershg', 'value', 'rent', 'ftotinc', 'nfams',\n",
       "       'ncouples', 'nmothers', 'nfathers', 'momloc', 'stepmom', 'momrule',\n",
       "       'poploc', 'steppop', 'poprule', 'sploc', 'sprule', 'famsize', 'nchild',\n",
       "       'nchlt5', 'famunit', 'eldch', 'yngch', 'nsibs', 'age', 'sex', 'school',\n",
       "       'occscoresei', 'incwage', 'inctot', 'incfarm', 'incbus', 'incss',\n",
       "       'incwelfr', 'incother', 'poverty'],\n",
       "      dtype='object')"
      ]
     },
     "execution_count": 79,
     "metadata": {},
     "output_type": "execute_result"
    }
   ],
   "source": [
    "#CHECKING THE COLUMNS OF NUMERICAL COLUMNS\n",
    "ip1.columns"
   ]
  },
  {
   "cell_type": "code",
   "execution_count": 80,
   "metadata": {},
   "outputs": [
    {
     "data": {
      "text/plain": [
       "(7485, 37)"
      ]
     },
     "execution_count": 80,
     "metadata": {},
     "output_type": "execute_result"
    }
   ],
   "source": [
    "#THERE ARE 37 NUMERICAL COLUMNS \n",
    "ip1.shape"
   ]
  },
  {
   "cell_type": "markdown",
   "metadata": {},
   "source": [
    "### NORMALIZE THE NUMERICAL COLUMNS"
   ]
  },
  {
   "cell_type": "code",
   "execution_count": 81,
   "metadata": {},
   "outputs": [
    {
     "name": "stderr",
     "output_type": "stream",
     "text": [
      "C:\\ProgramData\\Anaconda3\\lib\\site-packages\\sklearn\\preprocessing\\data.py:334: DataConversionWarning: Data with input dtype int64, float64 were all converted to float64 by MinMaxScaler.\n",
      "  return self.partial_fit(X, y)\n",
      "C:\\ProgramData\\Anaconda3\\lib\\site-packages\\sklearn\\preprocessing\\data.py:364: RuntimeWarning: All-NaN slice encountered\n",
      "  data_min = np.nanmin(X, axis=0)\n",
      "C:\\ProgramData\\Anaconda3\\lib\\site-packages\\sklearn\\preprocessing\\data.py:365: RuntimeWarning: All-NaN slice encountered\n",
      "  data_max = np.nanmax(X, axis=0)\n"
     ]
    }
   ],
   "source": [
    "# WE NORMALIZE THE VALUES OF ALL NUMERICAL COLUMNSINTO 0-1\n",
    "import sklearn\n",
    "from sklearn import preprocessing\n",
    "min_max_scaler = preprocessing.MinMaxScaler()\n",
    "x_scaled = min_max_scaler.fit_transform(ip1)"
   ]
  },
  {
   "cell_type": "code",
   "execution_count": 82,
   "metadata": {},
   "outputs": [],
   "source": [
    "#CONVERTING INTO DATAFRAME\n",
    "ip_normalized = pd.DataFrame(x_scaled,columns=['year', 'farm', 'ownershg', 'value', 'rent', 'ftotinc', 'nfams',\n",
    "       'ncouples', 'nmothers', 'nfathers', 'momloc', 'stepmom', 'momrule',\n",
    "       'poploc', 'steppop', 'poprule', 'sploc', 'sprule', 'famsize', 'nchild',\n",
    "       'nchlt5', 'famunit', 'eldch', 'yngch', 'nsibs', 'age', 'sex', 'school',\n",
    "       'occscoresei', 'incwage', 'inctot', 'incfarm', 'incbus', 'incss',\n",
    "       'incwelfr', 'incother', 'poverty'])"
   ]
  },
  {
   "cell_type": "code",
   "execution_count": 83,
   "metadata": {},
   "outputs": [
    {
     "data": {
      "text/html": [
       "<div>\n",
       "<style scoped>\n",
       "    .dataframe tbody tr th:only-of-type {\n",
       "        vertical-align: middle;\n",
       "    }\n",
       "\n",
       "    .dataframe tbody tr th {\n",
       "        vertical-align: top;\n",
       "    }\n",
       "\n",
       "    .dataframe thead th {\n",
       "        text-align: right;\n",
       "    }\n",
       "</style>\n",
       "<table border=\"1\" class=\"dataframe\">\n",
       "  <thead>\n",
       "    <tr style=\"text-align: right;\">\n",
       "      <th></th>\n",
       "      <th>year</th>\n",
       "      <th>farm</th>\n",
       "      <th>ownershg</th>\n",
       "      <th>value</th>\n",
       "      <th>rent</th>\n",
       "      <th>ftotinc</th>\n",
       "      <th>nfams</th>\n",
       "      <th>ncouples</th>\n",
       "      <th>nmothers</th>\n",
       "      <th>nfathers</th>\n",
       "      <th>...</th>\n",
       "      <th>school</th>\n",
       "      <th>occscoresei</th>\n",
       "      <th>incwage</th>\n",
       "      <th>inctot</th>\n",
       "      <th>incfarm</th>\n",
       "      <th>incbus</th>\n",
       "      <th>incss</th>\n",
       "      <th>incwelfr</th>\n",
       "      <th>incother</th>\n",
       "      <th>poverty</th>\n",
       "    </tr>\n",
       "  </thead>\n",
       "  <tbody>\n",
       "    <tr>\n",
       "      <th>0</th>\n",
       "      <td>0.0</td>\n",
       "      <td>0.0</td>\n",
       "      <td>1.0</td>\n",
       "      <td>1.000000</td>\n",
       "      <td>0.650</td>\n",
       "      <td>0.018549</td>\n",
       "      <td>0.000000</td>\n",
       "      <td>0.333333</td>\n",
       "      <td>0.333333</td>\n",
       "      <td>0.333333</td>\n",
       "      <td>...</td>\n",
       "      <td>0.0</td>\n",
       "      <td>NaN</td>\n",
       "      <td>0.000000</td>\n",
       "      <td>0.009131</td>\n",
       "      <td>0.003989</td>\n",
       "      <td>0.008925</td>\n",
       "      <td>0.0</td>\n",
       "      <td>0.0</td>\n",
       "      <td>0.0</td>\n",
       "      <td>0.255489</td>\n",
       "    </tr>\n",
       "    <tr>\n",
       "      <th>1</th>\n",
       "      <td>0.0</td>\n",
       "      <td>0.0</td>\n",
       "      <td>1.0</td>\n",
       "      <td>1.000000</td>\n",
       "      <td>0.574</td>\n",
       "      <td>0.017063</td>\n",
       "      <td>0.000000</td>\n",
       "      <td>0.000000</td>\n",
       "      <td>0.000000</td>\n",
       "      <td>0.000000</td>\n",
       "      <td>...</td>\n",
       "      <td>0.0</td>\n",
       "      <td>NaN</td>\n",
       "      <td>0.008005</td>\n",
       "      <td>0.017063</td>\n",
       "      <td>0.003989</td>\n",
       "      <td>0.008925</td>\n",
       "      <td>0.0</td>\n",
       "      <td>0.0</td>\n",
       "      <td>0.0</td>\n",
       "      <td>0.421158</td>\n",
       "    </tr>\n",
       "    <tr>\n",
       "      <th>2</th>\n",
       "      <td>0.0</td>\n",
       "      <td>0.0</td>\n",
       "      <td>0.0</td>\n",
       "      <td>0.080402</td>\n",
       "      <td>0.000</td>\n",
       "      <td>0.038495</td>\n",
       "      <td>0.000000</td>\n",
       "      <td>0.333333</td>\n",
       "      <td>0.333333</td>\n",
       "      <td>0.333333</td>\n",
       "      <td>...</td>\n",
       "      <td>1.0</td>\n",
       "      <td>NaN</td>\n",
       "      <td>1.000000</td>\n",
       "      <td>1.000000</td>\n",
       "      <td>1.000000</td>\n",
       "      <td>1.000000</td>\n",
       "      <td>1.0</td>\n",
       "      <td>1.0</td>\n",
       "      <td>1.0</td>\n",
       "      <td>0.606786</td>\n",
       "    </tr>\n",
       "    <tr>\n",
       "      <th>3</th>\n",
       "      <td>0.0</td>\n",
       "      <td>0.0</td>\n",
       "      <td>0.0</td>\n",
       "      <td>1.000000</td>\n",
       "      <td>0.000</td>\n",
       "      <td>0.061543</td>\n",
       "      <td>0.000000</td>\n",
       "      <td>0.333333</td>\n",
       "      <td>0.333333</td>\n",
       "      <td>0.333333</td>\n",
       "      <td>...</td>\n",
       "      <td>1.0</td>\n",
       "      <td>NaN</td>\n",
       "      <td>0.000000</td>\n",
       "      <td>0.009131</td>\n",
       "      <td>0.003989</td>\n",
       "      <td>0.008925</td>\n",
       "      <td>0.0</td>\n",
       "      <td>0.0</td>\n",
       "      <td>0.0</td>\n",
       "      <td>1.000000</td>\n",
       "    </tr>\n",
       "    <tr>\n",
       "      <th>4</th>\n",
       "      <td>0.0</td>\n",
       "      <td>0.0</td>\n",
       "      <td>1.0</td>\n",
       "      <td>1.000000</td>\n",
       "      <td>0.370</td>\n",
       "      <td>0.016671</td>\n",
       "      <td>0.142857</td>\n",
       "      <td>0.000000</td>\n",
       "      <td>0.000000</td>\n",
       "      <td>0.000000</td>\n",
       "      <td>...</td>\n",
       "      <td>1.0</td>\n",
       "      <td>NaN</td>\n",
       "      <td>0.004505</td>\n",
       "      <td>0.013610</td>\n",
       "      <td>0.003989</td>\n",
       "      <td>0.008925</td>\n",
       "      <td>0.0</td>\n",
       "      <td>0.0</td>\n",
       "      <td>0.0</td>\n",
       "      <td>0.237525</td>\n",
       "    </tr>\n",
       "  </tbody>\n",
       "</table>\n",
       "<p>5 rows × 37 columns</p>\n",
       "</div>"
      ],
      "text/plain": [
       "   year  farm  ownershg     value   rent   ftotinc     nfams  ncouples  \\\n",
       "0   0.0   0.0       1.0  1.000000  0.650  0.018549  0.000000  0.333333   \n",
       "1   0.0   0.0       1.0  1.000000  0.574  0.017063  0.000000  0.000000   \n",
       "2   0.0   0.0       0.0  0.080402  0.000  0.038495  0.000000  0.333333   \n",
       "3   0.0   0.0       0.0  1.000000  0.000  0.061543  0.000000  0.333333   \n",
       "4   0.0   0.0       1.0  1.000000  0.370  0.016671  0.142857  0.000000   \n",
       "\n",
       "   nmothers  nfathers  ...  school  occscoresei   incwage    inctot   incfarm  \\\n",
       "0  0.333333  0.333333  ...     0.0          NaN  0.000000  0.009131  0.003989   \n",
       "1  0.000000  0.000000  ...     0.0          NaN  0.008005  0.017063  0.003989   \n",
       "2  0.333333  0.333333  ...     1.0          NaN  1.000000  1.000000  1.000000   \n",
       "3  0.333333  0.333333  ...     1.0          NaN  0.000000  0.009131  0.003989   \n",
       "4  0.000000  0.000000  ...     1.0          NaN  0.004505  0.013610  0.003989   \n",
       "\n",
       "     incbus  incss  incwelfr  incother   poverty  \n",
       "0  0.008925    0.0       0.0       0.0  0.255489  \n",
       "1  0.008925    0.0       0.0       0.0  0.421158  \n",
       "2  1.000000    1.0       1.0       1.0  0.606786  \n",
       "3  0.008925    0.0       0.0       0.0  1.000000  \n",
       "4  0.008925    0.0       0.0       0.0  0.237525  \n",
       "\n",
       "[5 rows x 37 columns]"
      ]
     },
     "execution_count": 83,
     "metadata": {},
     "output_type": "execute_result"
    }
   ],
   "source": [
    "ip_normalized.head() #normalized dataframe"
   ]
  },
  {
   "cell_type": "code",
   "execution_count": 84,
   "metadata": {},
   "outputs": [
    {
     "name": "stdout",
     "output_type": "stream",
     "text": [
      "<class 'pandas.core.frame.DataFrame'>\n",
      "RangeIndex: 7485 entries, 0 to 7484\n",
      "Data columns (total 37 columns):\n",
      "year           7485 non-null float64\n",
      "farm           7485 non-null float64\n",
      "ownershg       7485 non-null float64\n",
      "value          7485 non-null float64\n",
      "rent           7485 non-null float64\n",
      "ftotinc        7485 non-null float64\n",
      "nfams          7485 non-null float64\n",
      "ncouples       7485 non-null float64\n",
      "nmothers       7485 non-null float64\n",
      "nfathers       7485 non-null float64\n",
      "momloc         7485 non-null float64\n",
      "stepmom        7485 non-null float64\n",
      "momrule        7485 non-null float64\n",
      "poploc         7485 non-null float64\n",
      "steppop        7485 non-null float64\n",
      "poprule        7485 non-null float64\n",
      "sploc          7485 non-null float64\n",
      "sprule         7485 non-null float64\n",
      "famsize        7485 non-null float64\n",
      "nchild         7485 non-null float64\n",
      "nchlt5         7485 non-null float64\n",
      "famunit        7485 non-null float64\n",
      "eldch          7485 non-null float64\n",
      "yngch          7485 non-null float64\n",
      "nsibs          7485 non-null float64\n",
      "age            7485 non-null float64\n",
      "sex            7485 non-null float64\n",
      "school         7485 non-null float64\n",
      "occscoresei    0 non-null float64\n",
      "incwage        7485 non-null float64\n",
      "inctot         7485 non-null float64\n",
      "incfarm        7485 non-null float64\n",
      "incbus         7485 non-null float64\n",
      "incss          7485 non-null float64\n",
      "incwelfr       7485 non-null float64\n",
      "incother       7485 non-null float64\n",
      "poverty        7485 non-null float64\n",
      "dtypes: float64(37)\n",
      "memory usage: 2.1 MB\n"
     ]
    }
   ],
   "source": [
    "ip_normalized.info()"
   ]
  },
  {
   "cell_type": "code",
   "execution_count": 85,
   "metadata": {},
   "outputs": [
    {
     "data": {
      "text/plain": [
       "Series([], Name: occscoresei, dtype: int64)"
      ]
     },
     "execution_count": 85,
     "metadata": {},
     "output_type": "execute_result"
    }
   ],
   "source": [
    "# THERE IS NO VALUES IN \"occscoresei\" ONLY \"NAN\" \n",
    "ip_normalized['occscoresei'].value_counts()"
   ]
  },
  {
   "cell_type": "code",
   "execution_count": 86,
   "metadata": {},
   "outputs": [
    {
     "data": {
      "text/plain": [
       "Index(['year', 'farm', 'ownershg', 'value', 'rent', 'ftotinc', 'nfams',\n",
       "       'ncouples', 'nmothers', 'nfathers', 'momloc', 'stepmom', 'momrule',\n",
       "       'poploc', 'steppop', 'poprule', 'sploc', 'sprule', 'famsize', 'nchild',\n",
       "       'nchlt5', 'famunit', 'eldch', 'yngch', 'nsibs', 'age', 'sex', 'school',\n",
       "       'occscoresei', 'incwage', 'inctot', 'incfarm', 'incbus', 'incss',\n",
       "       'incwelfr', 'incother', 'poverty'],\n",
       "      dtype='object')"
      ]
     },
     "execution_count": 86,
     "metadata": {},
     "output_type": "execute_result"
    }
   ],
   "source": [
    "ip_normalized.columns"
   ]
  },
  {
   "cell_type": "code",
   "execution_count": 87,
   "metadata": {},
   "outputs": [
    {
     "data": {
      "text/html": [
       "<div>\n",
       "<style scoped>\n",
       "    .dataframe tbody tr th:only-of-type {\n",
       "        vertical-align: middle;\n",
       "    }\n",
       "\n",
       "    .dataframe tbody tr th {\n",
       "        vertical-align: top;\n",
       "    }\n",
       "\n",
       "    .dataframe thead th {\n",
       "        text-align: right;\n",
       "    }\n",
       "</style>\n",
       "<table border=\"1\" class=\"dataframe\">\n",
       "  <thead>\n",
       "    <tr style=\"text-align: right;\">\n",
       "      <th></th>\n",
       "      <th>year</th>\n",
       "      <th>farm</th>\n",
       "      <th>ownershg</th>\n",
       "      <th>value</th>\n",
       "      <th>rent</th>\n",
       "      <th>ftotinc</th>\n",
       "      <th>nfams</th>\n",
       "      <th>ncouples</th>\n",
       "      <th>nmothers</th>\n",
       "      <th>nfathers</th>\n",
       "      <th>...</th>\n",
       "      <th>sex</th>\n",
       "      <th>school</th>\n",
       "      <th>incwage</th>\n",
       "      <th>inctot</th>\n",
       "      <th>incfarm</th>\n",
       "      <th>incbus</th>\n",
       "      <th>incss</th>\n",
       "      <th>incwelfr</th>\n",
       "      <th>incother</th>\n",
       "      <th>poverty</th>\n",
       "    </tr>\n",
       "  </thead>\n",
       "  <tbody>\n",
       "    <tr>\n",
       "      <th>0</th>\n",
       "      <td>0.0</td>\n",
       "      <td>0.0</td>\n",
       "      <td>1.0</td>\n",
       "      <td>1.000000</td>\n",
       "      <td>0.650</td>\n",
       "      <td>0.018549</td>\n",
       "      <td>0.000000</td>\n",
       "      <td>0.333333</td>\n",
       "      <td>0.333333</td>\n",
       "      <td>0.333333</td>\n",
       "      <td>...</td>\n",
       "      <td>1.0</td>\n",
       "      <td>0.0</td>\n",
       "      <td>0.000000</td>\n",
       "      <td>0.009131</td>\n",
       "      <td>0.003989</td>\n",
       "      <td>0.008925</td>\n",
       "      <td>0.0</td>\n",
       "      <td>0.0</td>\n",
       "      <td>0.0</td>\n",
       "      <td>0.255489</td>\n",
       "    </tr>\n",
       "    <tr>\n",
       "      <th>1</th>\n",
       "      <td>0.0</td>\n",
       "      <td>0.0</td>\n",
       "      <td>1.0</td>\n",
       "      <td>1.000000</td>\n",
       "      <td>0.574</td>\n",
       "      <td>0.017063</td>\n",
       "      <td>0.000000</td>\n",
       "      <td>0.000000</td>\n",
       "      <td>0.000000</td>\n",
       "      <td>0.000000</td>\n",
       "      <td>...</td>\n",
       "      <td>1.0</td>\n",
       "      <td>0.0</td>\n",
       "      <td>0.008005</td>\n",
       "      <td>0.017063</td>\n",
       "      <td>0.003989</td>\n",
       "      <td>0.008925</td>\n",
       "      <td>0.0</td>\n",
       "      <td>0.0</td>\n",
       "      <td>0.0</td>\n",
       "      <td>0.421158</td>\n",
       "    </tr>\n",
       "    <tr>\n",
       "      <th>2</th>\n",
       "      <td>0.0</td>\n",
       "      <td>0.0</td>\n",
       "      <td>0.0</td>\n",
       "      <td>0.080402</td>\n",
       "      <td>0.000</td>\n",
       "      <td>0.038495</td>\n",
       "      <td>0.000000</td>\n",
       "      <td>0.333333</td>\n",
       "      <td>0.333333</td>\n",
       "      <td>0.333333</td>\n",
       "      <td>...</td>\n",
       "      <td>1.0</td>\n",
       "      <td>1.0</td>\n",
       "      <td>1.000000</td>\n",
       "      <td>1.000000</td>\n",
       "      <td>1.000000</td>\n",
       "      <td>1.000000</td>\n",
       "      <td>1.0</td>\n",
       "      <td>1.0</td>\n",
       "      <td>1.0</td>\n",
       "      <td>0.606786</td>\n",
       "    </tr>\n",
       "    <tr>\n",
       "      <th>3</th>\n",
       "      <td>0.0</td>\n",
       "      <td>0.0</td>\n",
       "      <td>0.0</td>\n",
       "      <td>1.000000</td>\n",
       "      <td>0.000</td>\n",
       "      <td>0.061543</td>\n",
       "      <td>0.000000</td>\n",
       "      <td>0.333333</td>\n",
       "      <td>0.333333</td>\n",
       "      <td>0.333333</td>\n",
       "      <td>...</td>\n",
       "      <td>0.0</td>\n",
       "      <td>1.0</td>\n",
       "      <td>0.000000</td>\n",
       "      <td>0.009131</td>\n",
       "      <td>0.003989</td>\n",
       "      <td>0.008925</td>\n",
       "      <td>0.0</td>\n",
       "      <td>0.0</td>\n",
       "      <td>0.0</td>\n",
       "      <td>1.000000</td>\n",
       "    </tr>\n",
       "    <tr>\n",
       "      <th>4</th>\n",
       "      <td>0.0</td>\n",
       "      <td>0.0</td>\n",
       "      <td>1.0</td>\n",
       "      <td>1.000000</td>\n",
       "      <td>0.370</td>\n",
       "      <td>0.016671</td>\n",
       "      <td>0.142857</td>\n",
       "      <td>0.000000</td>\n",
       "      <td>0.000000</td>\n",
       "      <td>0.000000</td>\n",
       "      <td>...</td>\n",
       "      <td>1.0</td>\n",
       "      <td>1.0</td>\n",
       "      <td>0.004505</td>\n",
       "      <td>0.013610</td>\n",
       "      <td>0.003989</td>\n",
       "      <td>0.008925</td>\n",
       "      <td>0.0</td>\n",
       "      <td>0.0</td>\n",
       "      <td>0.0</td>\n",
       "      <td>0.237525</td>\n",
       "    </tr>\n",
       "  </tbody>\n",
       "</table>\n",
       "<p>5 rows × 36 columns</p>\n",
       "</div>"
      ],
      "text/plain": [
       "   year  farm  ownershg     value   rent   ftotinc     nfams  ncouples  \\\n",
       "0   0.0   0.0       1.0  1.000000  0.650  0.018549  0.000000  0.333333   \n",
       "1   0.0   0.0       1.0  1.000000  0.574  0.017063  0.000000  0.000000   \n",
       "2   0.0   0.0       0.0  0.080402  0.000  0.038495  0.000000  0.333333   \n",
       "3   0.0   0.0       0.0  1.000000  0.000  0.061543  0.000000  0.333333   \n",
       "4   0.0   0.0       1.0  1.000000  0.370  0.016671  0.142857  0.000000   \n",
       "\n",
       "   nmothers  nfathers  ...  sex  school   incwage    inctot   incfarm  \\\n",
       "0  0.333333  0.333333  ...  1.0     0.0  0.000000  0.009131  0.003989   \n",
       "1  0.000000  0.000000  ...  1.0     0.0  0.008005  0.017063  0.003989   \n",
       "2  0.333333  0.333333  ...  1.0     1.0  1.000000  1.000000  1.000000   \n",
       "3  0.333333  0.333333  ...  0.0     1.0  0.000000  0.009131  0.003989   \n",
       "4  0.000000  0.000000  ...  1.0     1.0  0.004505  0.013610  0.003989   \n",
       "\n",
       "     incbus  incss  incwelfr  incother   poverty  \n",
       "0  0.008925    0.0       0.0       0.0  0.255489  \n",
       "1  0.008925    0.0       0.0       0.0  0.421158  \n",
       "2  1.000000    1.0       1.0       1.0  0.606786  \n",
       "3  0.008925    0.0       0.0       0.0  1.000000  \n",
       "4  0.008925    0.0       0.0       0.0  0.237525  \n",
       "\n",
       "[5 rows x 36 columns]"
      ]
     },
     "execution_count": 87,
     "metadata": {},
     "output_type": "execute_result"
    }
   ],
   "source": [
    "#DDROPPING THE COLUMN\n",
    "ip_normalized=ip_normalized.drop(columns=['occscoresei'])\n",
    "ip_normalized.head()"
   ]
  },
  {
   "cell_type": "code",
   "execution_count": 88,
   "metadata": {},
   "outputs": [
    {
     "data": {
      "text/plain": [
       "Index(['year', 'farm', 'ownershg', 'value', 'rent', 'ftotinc', 'nfams',\n",
       "       'ncouples', 'nmothers', 'nfathers', 'momloc', 'stepmom', 'momrule',\n",
       "       'poploc', 'steppop', 'poprule', 'sploc', 'sprule', 'famsize', 'nchild',\n",
       "       'nchlt5', 'famunit', 'eldch', 'yngch', 'nsibs', 'age', 'sex', 'school',\n",
       "       'incwage', 'inctot', 'incfarm', 'incbus', 'incss', 'incwelfr',\n",
       "       'incother', 'poverty'],\n",
       "      dtype='object')"
      ]
     },
     "execution_count": 88,
     "metadata": {},
     "output_type": "execute_result"
    }
   ],
   "source": [
    "#AFTER DROPPING THE COLUMNNAMES\n",
    "ip_normalized.columns"
   ]
  },
  {
   "cell_type": "markdown",
   "metadata": {},
   "source": [
    "### ALL CATEGORICAL COLUMNS"
   ]
  },
  {
   "cell_type": "code",
   "execution_count": 89,
   "metadata": {},
   "outputs": [
    {
     "data": {
      "text/html": [
       "<div>\n",
       "<style scoped>\n",
       "    .dataframe tbody tr th:only-of-type {\n",
       "        vertical-align: middle;\n",
       "    }\n",
       "\n",
       "    .dataframe tbody tr th {\n",
       "        vertical-align: top;\n",
       "    }\n",
       "\n",
       "    .dataframe thead th {\n",
       "        text-align: right;\n",
       "    }\n",
       "</style>\n",
       "<table border=\"1\" class=\"dataframe\">\n",
       "  <thead>\n",
       "    <tr style=\"text-align: right;\">\n",
       "      <th></th>\n",
       "      <th>gq</th>\n",
       "      <th>gqtypeg</th>\n",
       "      <th>relateg</th>\n",
       "      <th>raceg</th>\n",
       "      <th>marst</th>\n",
       "      <th>chborn</th>\n",
       "      <th>bplg</th>\n",
       "      <th>educrec</th>\n",
       "      <th>schltype</th>\n",
       "      <th>empstatg</th>\n",
       "      <th>...</th>\n",
       "      <th>ind1950</th>\n",
       "      <th>classwkg</th>\n",
       "      <th>wkswork2</th>\n",
       "      <th>hrswork2</th>\n",
       "      <th>yrlastwk</th>\n",
       "      <th>workedyr</th>\n",
       "      <th>migrat5g</th>\n",
       "      <th>migplac5</th>\n",
       "      <th>vetstat</th>\n",
       "      <th>tranwork</th>\n",
       "    </tr>\n",
       "  </thead>\n",
       "  <tbody>\n",
       "    <tr>\n",
       "      <th>0</th>\n",
       "      <td>HH_in_1970_definition_but_sampled_as_larger_unit</td>\n",
       "      <td>NA_(household)</td>\n",
       "      <td>Spouse</td>\n",
       "      <td>White</td>\n",
       "      <td>Married_spouse_present</td>\n",
       "      <td>2__children</td>\n",
       "      <td>California</td>\n",
       "      <td>1_to_3_years_of_college</td>\n",
       "      <td>Public_school</td>\n",
       "      <td>Not_in_labor_force</td>\n",
       "      <td>...</td>\n",
       "      <td>Food_stores_except_dairy</td>\n",
       "      <td>Works_for_wages_salary</td>\n",
       "      <td>14-26_weeks</td>\n",
       "      <td>40_hours</td>\n",
       "      <td>Worked_3-5_yrs_ago</td>\n",
       "      <td>No</td>\n",
       "      <td>Same_state_countydifferent_house</td>\n",
       "      <td>California</td>\n",
       "      <td>No_Service</td>\n",
       "      <td>Bus_or_streetcar</td>\n",
       "    </tr>\n",
       "    <tr>\n",
       "      <th>1</th>\n",
       "      <td>HH_in_1970_definition_but_sampled_as_larger_unit</td>\n",
       "      <td>NA_(household)</td>\n",
       "      <td>Head_Householder</td>\n",
       "      <td>Black_Negro</td>\n",
       "      <td>Never_married_single</td>\n",
       "      <td>No_children</td>\n",
       "      <td>California</td>\n",
       "      <td>Grade_12</td>\n",
       "      <td>Church-related_(1980)</td>\n",
       "      <td>Employed</td>\n",
       "      <td>...</td>\n",
       "      <td>Crude_petroleum_and_natural_gas_extraction</td>\n",
       "      <td>Works_for_wages_salary</td>\n",
       "      <td>40-47_weeks</td>\n",
       "      <td>40_hours</td>\n",
       "      <td>Worked_current_yr</td>\n",
       "      <td>Yes</td>\n",
       "      <td>Same_state_countydifferent_house</td>\n",
       "      <td>California</td>\n",
       "      <td>No_Service</td>\n",
       "      <td>Walked_only</td>\n",
       "    </tr>\n",
       "    <tr>\n",
       "      <th>2</th>\n",
       "      <td>HH_in_1970_definition_but_sampled_as_larger_unit</td>\n",
       "      <td>NA_(household)</td>\n",
       "      <td>Child</td>\n",
       "      <td>White</td>\n",
       "      <td>Never_married_single</td>\n",
       "      <td>No_children</td>\n",
       "      <td>California</td>\n",
       "      <td>None_or_preschool</td>\n",
       "      <td>Other_private_1980</td>\n",
       "      <td>Not_in_labor_force</td>\n",
       "      <td>...</td>\n",
       "      <td>Eating_and_drinking__places</td>\n",
       "      <td>Works_for_wages_salary</td>\n",
       "      <td>50-52_weeks</td>\n",
       "      <td>30-34_hours</td>\n",
       "      <td>Never_worked</td>\n",
       "      <td>No</td>\n",
       "      <td>Same_house</td>\n",
       "      <td>Same_house</td>\n",
       "      <td>No_Service</td>\n",
       "      <td>Auto</td>\n",
       "    </tr>\n",
       "  </tbody>\n",
       "</table>\n",
       "<p>3 rows × 22 columns</p>\n",
       "</div>"
      ],
      "text/plain": [
       "                                                 gq         gqtypeg  \\\n",
       "0  HH_in_1970_definition_but_sampled_as_larger_unit  NA_(household)   \n",
       "1  HH_in_1970_definition_but_sampled_as_larger_unit  NA_(household)   \n",
       "2  HH_in_1970_definition_but_sampled_as_larger_unit  NA_(household)   \n",
       "\n",
       "            relateg        raceg                   marst       chborn  \\\n",
       "0            Spouse        White  Married_spouse_present  2__children   \n",
       "1  Head_Householder  Black_Negro    Never_married_single  No_children   \n",
       "2             Child        White    Never_married_single  No_children   \n",
       "\n",
       "         bplg                  educrec               schltype  \\\n",
       "0  California  1_to_3_years_of_college          Public_school   \n",
       "1  California                 Grade_12  Church-related_(1980)   \n",
       "2  California        None_or_preschool     Other_private_1980   \n",
       "\n",
       "             empstatg  ...                                     ind1950  \\\n",
       "0  Not_in_labor_force  ...                    Food_stores_except_dairy   \n",
       "1            Employed  ...  Crude_petroleum_and_natural_gas_extraction   \n",
       "2  Not_in_labor_force  ...                 Eating_and_drinking__places   \n",
       "\n",
       "                 classwkg     wkswork2     hrswork2            yrlastwk  \\\n",
       "0  Works_for_wages_salary  14-26_weeks     40_hours  Worked_3-5_yrs_ago   \n",
       "1  Works_for_wages_salary  40-47_weeks     40_hours   Worked_current_yr   \n",
       "2  Works_for_wages_salary  50-52_weeks  30-34_hours        Never_worked   \n",
       "\n",
       "  workedyr                          migrat5g    migplac5     vetstat  \\\n",
       "0       No  Same_state_countydifferent_house  California  No_Service   \n",
       "1      Yes  Same_state_countydifferent_house  California  No_Service   \n",
       "2       No                        Same_house  Same_house  No_Service   \n",
       "\n",
       "           tranwork  \n",
       "0  Bus_or_streetcar  \n",
       "1       Walked_only  \n",
       "2              Auto  \n",
       "\n",
       "[3 rows x 22 columns]"
      ]
     },
     "execution_count": 89,
     "metadata": {},
     "output_type": "execute_result"
    }
   ],
   "source": [
    "# limit to categorical data using df.select_dtypes()\n",
    "# Taking all the object datatypes as categorical columns without giving names\n",
    "X = ip.select_dtypes(include=[object])\n",
    "X.head(3)"
   ]
  },
  {
   "cell_type": "code",
   "execution_count": 90,
   "metadata": {},
   "outputs": [
    {
     "data": {
      "text/plain": [
       "(7485, 22)"
      ]
     },
     "execution_count": 90,
     "metadata": {},
     "output_type": "execute_result"
    }
   ],
   "source": [
    "# check original shape of categorical columns\n",
    "X.shape"
   ]
  },
  {
   "cell_type": "code",
   "execution_count": 91,
   "metadata": {},
   "outputs": [
    {
     "data": {
      "text/plain": [
       "Index(['gq', 'gqtypeg', 'relateg', 'raceg', 'marst', 'chborn', 'bplg',\n",
       "       'educrec', 'schltype', 'empstatg', 'labforce', 'occ1950', 'ind1950',\n",
       "       'classwkg', 'wkswork2', 'hrswork2', 'yrlastwk', 'workedyr', 'migrat5g',\n",
       "       'migplac5', 'vetstat', 'tranwork'],\n",
       "      dtype='object')"
      ]
     },
     "execution_count": 91,
     "metadata": {},
     "output_type": "execute_result"
    }
   ],
   "source": [
    "# view the categorical columns using df.columns\n",
    "X.columns"
   ]
  },
  {
   "cell_type": "markdown",
   "metadata": {},
   "source": [
    "### LABEL-ENCODING"
   ]
  },
  {
   "cell_type": "code",
   "execution_count": 92,
   "metadata": {},
   "outputs": [],
   "source": [
    "# import preprocessing from sklearn\n",
    "from sklearn import preprocessing"
   ]
  },
  {
   "cell_type": "code",
   "execution_count": 93,
   "metadata": {},
   "outputs": [
    {
     "data": {
      "text/html": [
       "<div>\n",
       "<style scoped>\n",
       "    .dataframe tbody tr th:only-of-type {\n",
       "        vertical-align: middle;\n",
       "    }\n",
       "\n",
       "    .dataframe tbody tr th {\n",
       "        vertical-align: top;\n",
       "    }\n",
       "\n",
       "    .dataframe thead th {\n",
       "        text-align: right;\n",
       "    }\n",
       "</style>\n",
       "<table border=\"1\" class=\"dataframe\">\n",
       "  <thead>\n",
       "    <tr style=\"text-align: right;\">\n",
       "      <th></th>\n",
       "      <th>gq</th>\n",
       "      <th>gqtypeg</th>\n",
       "      <th>relateg</th>\n",
       "      <th>raceg</th>\n",
       "      <th>marst</th>\n",
       "      <th>chborn</th>\n",
       "      <th>bplg</th>\n",
       "      <th>educrec</th>\n",
       "      <th>schltype</th>\n",
       "      <th>empstatg</th>\n",
       "      <th>...</th>\n",
       "      <th>ind1950</th>\n",
       "      <th>classwkg</th>\n",
       "      <th>wkswork2</th>\n",
       "      <th>hrswork2</th>\n",
       "      <th>yrlastwk</th>\n",
       "      <th>workedyr</th>\n",
       "      <th>migrat5g</th>\n",
       "      <th>migplac5</th>\n",
       "      <th>vetstat</th>\n",
       "      <th>tranwork</th>\n",
       "    </tr>\n",
       "  </thead>\n",
       "  <tbody>\n",
       "    <tr>\n",
       "      <th>0</th>\n",
       "      <td>0</td>\n",
       "      <td>4</td>\n",
       "      <td>12</td>\n",
       "      <td>6</td>\n",
       "      <td>2</td>\n",
       "      <td>5</td>\n",
       "      <td>10</td>\n",
       "      <td>0</td>\n",
       "      <td>3</td>\n",
       "      <td>2</td>\n",
       "      <td>...</td>\n",
       "      <td>39</td>\n",
       "      <td>2</td>\n",
       "      <td>2</td>\n",
       "      <td>5</td>\n",
       "      <td>3</td>\n",
       "      <td>1</td>\n",
       "      <td>4</td>\n",
       "      <td>5</td>\n",
       "      <td>1</td>\n",
       "      <td>3</td>\n",
       "    </tr>\n",
       "    <tr>\n",
       "      <th>1</th>\n",
       "      <td>0</td>\n",
       "      <td>4</td>\n",
       "      <td>3</td>\n",
       "      <td>1</td>\n",
       "      <td>3</td>\n",
       "      <td>13</td>\n",
       "      <td>10</td>\n",
       "      <td>5</td>\n",
       "      <td>1</td>\n",
       "      <td>1</td>\n",
       "      <td>...</td>\n",
       "      <td>20</td>\n",
       "      <td>2</td>\n",
       "      <td>4</td>\n",
       "      <td>5</td>\n",
       "      <td>5</td>\n",
       "      <td>2</td>\n",
       "      <td>4</td>\n",
       "      <td>5</td>\n",
       "      <td>1</td>\n",
       "      <td>9</td>\n",
       "    </tr>\n",
       "    <tr>\n",
       "      <th>2</th>\n",
       "      <td>0</td>\n",
       "      <td>4</td>\n",
       "      <td>0</td>\n",
       "      <td>6</td>\n",
       "      <td>3</td>\n",
       "      <td>13</td>\n",
       "      <td>10</td>\n",
       "      <td>8</td>\n",
       "      <td>2</td>\n",
       "      <td>2</td>\n",
       "      <td>...</td>\n",
       "      <td>28</td>\n",
       "      <td>2</td>\n",
       "      <td>6</td>\n",
       "      <td>3</td>\n",
       "      <td>1</td>\n",
       "      <td>1</td>\n",
       "      <td>3</td>\n",
       "      <td>39</td>\n",
       "      <td>1</td>\n",
       "      <td>1</td>\n",
       "    </tr>\n",
       "    <tr>\n",
       "      <th>3</th>\n",
       "      <td>0</td>\n",
       "      <td>4</td>\n",
       "      <td>0</td>\n",
       "      <td>6</td>\n",
       "      <td>3</td>\n",
       "      <td>4</td>\n",
       "      <td>10</td>\n",
       "      <td>3</td>\n",
       "      <td>3</td>\n",
       "      <td>2</td>\n",
       "      <td>...</td>\n",
       "      <td>50</td>\n",
       "      <td>2</td>\n",
       "      <td>4</td>\n",
       "      <td>7</td>\n",
       "      <td>1</td>\n",
       "      <td>1</td>\n",
       "      <td>3</td>\n",
       "      <td>39</td>\n",
       "      <td>1</td>\n",
       "      <td>9</td>\n",
       "    </tr>\n",
       "    <tr>\n",
       "      <th>4</th>\n",
       "      <td>0</td>\n",
       "      <td>4</td>\n",
       "      <td>9</td>\n",
       "      <td>6</td>\n",
       "      <td>3</td>\n",
       "      <td>13</td>\n",
       "      <td>10</td>\n",
       "      <td>0</td>\n",
       "      <td>3</td>\n",
       "      <td>1</td>\n",
       "      <td>...</td>\n",
       "      <td>50</td>\n",
       "      <td>2</td>\n",
       "      <td>4</td>\n",
       "      <td>2</td>\n",
       "      <td>6</td>\n",
       "      <td>2</td>\n",
       "      <td>4</td>\n",
       "      <td>5</td>\n",
       "      <td>1</td>\n",
       "      <td>1</td>\n",
       "    </tr>\n",
       "  </tbody>\n",
       "</table>\n",
       "<p>5 rows × 22 columns</p>\n",
       "</div>"
      ],
      "text/plain": [
       "   gq  gqtypeg  relateg  raceg  marst  chborn  bplg  educrec  schltype  \\\n",
       "0   0        4       12      6      2       5    10        0         3   \n",
       "1   0        4        3      1      3      13    10        5         1   \n",
       "2   0        4        0      6      3      13    10        8         2   \n",
       "3   0        4        0      6      3       4    10        3         3   \n",
       "4   0        4        9      6      3      13    10        0         3   \n",
       "\n",
       "   empstatg  ...  ind1950  classwkg  wkswork2  hrswork2  yrlastwk  workedyr  \\\n",
       "0         2  ...       39         2         2         5         3         1   \n",
       "1         1  ...       20         2         4         5         5         2   \n",
       "2         2  ...       28         2         6         3         1         1   \n",
       "3         2  ...       50         2         4         7         1         1   \n",
       "4         1  ...       50         2         4         2         6         2   \n",
       "\n",
       "   migrat5g  migplac5  vetstat  tranwork  \n",
       "0         4         5        1         3  \n",
       "1         4         5        1         9  \n",
       "2         3        39        1         1  \n",
       "3         3        39        1         9  \n",
       "4         4         5        1         1  \n",
       "\n",
       "[5 rows x 22 columns]"
      ]
     },
     "execution_count": 93,
     "metadata": {},
     "output_type": "execute_result"
    }
   ],
   "source": [
    "#create a LabelEncoder object and fit it to each feature in X\n",
    "# encode labels with value between 0 and n_classes-1.\n",
    "le = preprocessing.LabelEncoder()\n",
    "# used df.apply() to apply le.fit_transform to all columns\n",
    "X_2 = X.apply(le.fit_transform)\n",
    "X_2.head()"
   ]
  },
  {
   "cell_type": "code",
   "execution_count": 94,
   "metadata": {},
   "outputs": [
    {
     "data": {
      "text/plain": [
       "(7485, 22)"
      ]
     },
     "execution_count": 94,
     "metadata": {},
     "output_type": "execute_result"
    }
   ],
   "source": [
    "#checking the categorical columns\n",
    "X_2.shape"
   ]
  },
  {
   "cell_type": "code",
   "execution_count": 95,
   "metadata": {},
   "outputs": [
    {
     "name": "stdout",
     "output_type": "stream",
     "text": [
      "<class 'pandas.core.frame.DataFrame'>\n",
      "RangeIndex: 7485 entries, 0 to 7484\n",
      "Data columns (total 22 columns):\n",
      "gq          7485 non-null int32\n",
      "gqtypeg     7485 non-null int32\n",
      "relateg     7485 non-null int32\n",
      "raceg       7485 non-null int32\n",
      "marst       7485 non-null int32\n",
      "chborn      7485 non-null int32\n",
      "bplg        7485 non-null int32\n",
      "educrec     7485 non-null int32\n",
      "schltype    7485 non-null int32\n",
      "empstatg    7485 non-null int32\n",
      "labforce    7485 non-null int32\n",
      "occ1950     7485 non-null int32\n",
      "ind1950     7485 non-null int32\n",
      "classwkg    7485 non-null int32\n",
      "wkswork2    7485 non-null int32\n",
      "hrswork2    7485 non-null int32\n",
      "yrlastwk    7485 non-null int32\n",
      "workedyr    7485 non-null int32\n",
      "migrat5g    7485 non-null int32\n",
      "migplac5    7485 non-null int32\n",
      "vetstat     7485 non-null int32\n",
      "tranwork    7485 non-null int32\n",
      "dtypes: int32(22)\n",
      "memory usage: 643.3 KB\n"
     ]
    }
   ],
   "source": [
    "#successfully conveted the objects into integers\n",
    "X_2.info()"
   ]
  },
  {
   "cell_type": "markdown",
   "metadata": {},
   "source": [
    "### ONE-HOT-ENCODING \n",
    "A one hot encoding is a representation of categorical variables as binary vectors.\n",
    "\n",
    "This first requires that the categorical values be mapped to integer values.\n",
    "\n",
    "Then, each integer value is represented as a binary vector that is all zero values except the index of the integer, which is marked with a 1."
   ]
  },
  {
   "cell_type": "code",
   "execution_count": 96,
   "metadata": {},
   "outputs": [
    {
     "name": "stderr",
     "output_type": "stream",
     "text": [
      "C:\\ProgramData\\Anaconda3\\lib\\site-packages\\sklearn\\preprocessing\\_encoders.py:371: FutureWarning: The handling of integer data will change in version 0.22. Currently, the categories are determined based on the range [0, max(values)], while in the future they will be determined based on the unique values.\n",
      "If you want the future behaviour and silence this warning, you can specify \"categories='auto'\".\n",
      "In case you used a LabelEncoder before this OneHotEncoder to convert the categories to integers, then you can now use the OneHotEncoder directly.\n",
      "  warnings.warn(msg, FutureWarning)\n"
     ]
    },
    {
     "data": {
      "text/plain": [
       "(7485, 595)"
      ]
     },
     "execution_count": 96,
     "metadata": {},
     "output_type": "execute_result"
    }
   ],
   "source": [
    "# create a OneHotEncoder object, and fit it to all of X\n",
    "\n",
    "# 1. INSTANTIATE\n",
    "enc = preprocessing.OneHotEncoder()\n",
    "\n",
    "# 2. FIT\n",
    "enc.fit(X_2)\n",
    "\n",
    "# 3. Transform\n",
    "onehotlabels = enc.transform(X_2).toarray()\n",
    "onehotlabels.shape\n",
    "\n",
    "# as you can see, you've the same number of rows 595\n",
    "# but now you've so many more columns due to how we changed all the categorical data into numerical data"
   ]
  },
  {
   "cell_type": "code",
   "execution_count": 97,
   "metadata": {},
   "outputs": [],
   "source": [
    "# converting into dataframe\n",
    "data = pd.DataFrame(onehotlabels)"
   ]
  },
  {
   "cell_type": "code",
   "execution_count": 98,
   "metadata": {},
   "outputs": [],
   "source": [
    "#combining all the normalized data and the onehotcoding data \n",
    "data[['year', 'farm', 'ownershg', 'value', 'rent', 'ftotinc', 'nfams',\n",
    "       'ncouples', 'nmothers', 'nfathers', 'momloc', 'stepmom', 'momrule',\n",
    "       'poploc', 'steppop', 'poprule', 'sploc', 'sprule', 'famsize', 'nchild',\n",
    "       'nchlt5', 'famunit', 'eldch', 'yngch', 'nsibs', 'age', 'sex', 'school',\n",
    "       'incwage', 'inctot', 'incfarm', 'incbus', 'incss', 'incwelfr',\n",
    "       'incother', 'poverty']]=ip_normalized"
   ]
  },
  {
   "cell_type": "markdown",
   "metadata": {},
   "source": [
    "# DIFFERENT CLASSIFICATION METHODS "
   ]
  },
  {
   "cell_type": "code",
   "execution_count": 99,
   "metadata": {},
   "outputs": [],
   "source": [
    "# DIVIDING THE DATA INTO INPUT AND OUTPUT\n",
    "X = data  # INPUT VARAIABLES\n",
    "y = df['movedin'] #TARGET VARIAABLES"
   ]
  },
  {
   "cell_type": "code",
   "execution_count": 100,
   "metadata": {},
   "outputs": [],
   "source": [
    "#CONVERTING THE DATA INTO TEST AND TRAIN\n",
    "from sklearn.model_selection import train_test_split \n",
    "X_train, X_test, y_train, y_test = train_test_split(X, y, test_size=0.2, \n",
    "                                                    random_state=1)"
   ]
  },
  {
   "cell_type": "markdown",
   "metadata": {},
   "source": [
    "## LogisticRegression"
   ]
  },
  {
   "cell_type": "code",
   "execution_count": 101,
   "metadata": {},
   "outputs": [],
   "source": [
    "from sklearn.linear_model import LogisticRegression \n",
    "from sklearn.metrics import accuracy_score \n",
    "model = LogisticRegression()\n"
   ]
  },
  {
   "cell_type": "code",
   "execution_count": 102,
   "metadata": {},
   "outputs": [
    {
     "name": "stderr",
     "output_type": "stream",
     "text": [
      "C:\\ProgramData\\Anaconda3\\lib\\site-packages\\sklearn\\linear_model\\logistic.py:433: FutureWarning: Default solver will be changed to 'lbfgs' in 0.22. Specify a solver to silence this warning.\n",
      "  FutureWarning)\n",
      "C:\\ProgramData\\Anaconda3\\lib\\site-packages\\sklearn\\linear_model\\logistic.py:460: FutureWarning: Default multi_class will be changed to 'auto' in 0.22. Specify the multi_class option to silence this warning.\n",
      "  \"this warning.\", FutureWarning)\n"
     ]
    },
    {
     "data": {
      "text/plain": [
       "LogisticRegression(C=1.0, class_weight=None, dual=False, fit_intercept=True,\n",
       "          intercept_scaling=1, max_iter=100, multi_class='warn',\n",
       "          n_jobs=None, penalty='l2', random_state=None, solver='warn',\n",
       "          tol=0.0001, verbose=0, warm_start=False)"
      ]
     },
     "execution_count": 102,
     "metadata": {},
     "output_type": "execute_result"
    }
   ],
   "source": [
    "model.fit(X_train, y_train)"
   ]
  },
  {
   "cell_type": "code",
   "execution_count": 103,
   "metadata": {},
   "outputs": [],
   "source": [
    "y_pred = model.predict(X_test)"
   ]
  },
  {
   "cell_type": "code",
   "execution_count": 104,
   "metadata": {},
   "outputs": [
    {
     "name": "stdout",
     "output_type": "stream",
     "text": [
      "77.82231128924516\n"
     ]
    }
   ],
   "source": [
    "accuracy=accuracy_score(y_test,y_pred)\n",
    "print(accuracy*100)"
   ]
  },
  {
   "cell_type": "markdown",
   "metadata": {},
   "source": [
    "#### THE ACCURACY OF THE DATA BY USING LOGISTIC REGRESSION  IS 77.8%"
   ]
  },
  {
   "cell_type": "code",
   "execution_count": 105,
   "metadata": {},
   "outputs": [
    {
     "data": {
      "text/plain": [
       "array([[960,   0,   0,   0,   0,   0,   0],\n",
       "       [  0,  65,  57,   6,   6,   1,   0],\n",
       "       [  0,  53,  83,  13,   8,   3,   1],\n",
       "       [  0,  13,  40,  20,  13,   6,   2],\n",
       "       [  0,   4,  26,  24,  30,  11,   0],\n",
       "       [  0,   1,  11,   6,  10,   7,   1],\n",
       "       [  0,   1,   4,   3,   6,   2,   0]], dtype=int64)"
      ]
     },
     "execution_count": 105,
     "metadata": {},
     "output_type": "execute_result"
    }
   ],
   "source": [
    "from sklearn.metrics import confusion_matrix\n",
    "cnf_matrix = confusion_matrix(y_test, y_pred)\n",
    "cnf_matrix"
   ]
  },
  {
   "cell_type": "markdown",
   "metadata": {},
   "source": [
    "## Neural_Network"
   ]
  },
  {
   "cell_type": "code",
   "execution_count": 106,
   "metadata": {},
   "outputs": [],
   "source": [
    "from sklearn.neural_network import MLPClassifier\n",
    "from sklearn.metrics import accuracy_score"
   ]
  },
  {
   "cell_type": "code",
   "execution_count": 107,
   "metadata": {},
   "outputs": [
    {
     "data": {
      "text/plain": [
       "MLPClassifier(activation='relu', alpha=0.0001, batch_size='auto', beta_1=0.9,\n",
       "       beta_2=0.999, early_stopping=False, epsilon=1e-08,\n",
       "       hidden_layer_sizes=(2000, 1000, 800), learning_rate='constant',\n",
       "       learning_rate_init=0.001, max_iter=100, momentum=0.9,\n",
       "       n_iter_no_change=10, nesterovs_momentum=True, power_t=0.5,\n",
       "       random_state=None, shuffle=True, solver='adam', tol=0.0001,\n",
       "       validation_fraction=0.1, verbose=False, warm_start=False)"
      ]
     },
     "execution_count": 107,
     "metadata": {},
     "output_type": "execute_result"
    }
   ],
   "source": [
    "model = MLPClassifier(hidden_layer_sizes=(2000,1000,800), max_iter=100)\n",
    "model.fit(X_train, y_train)"
   ]
  },
  {
   "cell_type": "code",
   "execution_count": 108,
   "metadata": {},
   "outputs": [],
   "source": [
    "y_pred= model.predict(X_test)"
   ]
  },
  {
   "cell_type": "code",
   "execution_count": 109,
   "metadata": {},
   "outputs": [
    {
     "name": "stdout",
     "output_type": "stream",
     "text": [
      "0.7668670674682698\n"
     ]
    }
   ],
   "source": [
    "accuracy = model.score(X_test,y_test)\n",
    "print(accuracy)"
   ]
  },
  {
   "cell_type": "markdown",
   "metadata": {},
   "source": [
    "#### THE ACCURACY OF THE DATA BY USING NEURAL NETWORKS IS 77.1%"
   ]
  },
  {
   "cell_type": "code",
   "execution_count": 110,
   "metadata": {},
   "outputs": [
    {
     "name": "stdout",
     "output_type": "stream",
     "text": [
      "[[960   0   0   0   0   0   0]\n",
      " [  0  55  56  13   8   3   0]\n",
      " [  0  53  76  20   9   2   1]\n",
      " [  0  13  33  26  15   4   3]\n",
      " [  0   3  24  29  24  11   4]\n",
      " [  1   2   7   5  15   5   1]\n",
      " [  0   1   1   2   8   2   2]]\n",
      "              precision    recall  f1-score   support\n",
      "\n",
      "           0       1.00      1.00      1.00       960\n",
      "           1       0.43      0.41      0.42       135\n",
      "           2       0.39      0.47      0.42       161\n",
      "           5       0.27      0.28      0.28        94\n",
      "           6       0.30      0.25      0.28        95\n",
      "           7       0.19      0.14      0.16        36\n",
      "           8       0.18      0.12      0.15        16\n",
      "\n",
      "   micro avg       0.77      0.77      0.77      1497\n",
      "   macro avg       0.39      0.38      0.39      1497\n",
      "weighted avg       0.76      0.77      0.76      1497\n",
      "\n"
     ]
    }
   ],
   "source": [
    "from sklearn.metrics import classification_report, confusion_matrix\n",
    "print(confusion_matrix(y_test,y_pred))\n",
    "print(classification_report(y_test,y_pred))"
   ]
  },
  {
   "cell_type": "code",
   "execution_count": 111,
   "metadata": {},
   "outputs": [
    {
     "data": {
      "text/plain": [
       "MLPClassifier(activation='relu', alpha=0.0001, batch_size='auto', beta_1=0.9,\n",
       "       beta_2=0.999, early_stopping=False, epsilon=1e-08,\n",
       "       hidden_layer_sizes=(1500, 900, 700), learning_rate='constant',\n",
       "       learning_rate_init=0.001, max_iter=100, momentum=0.9,\n",
       "       n_iter_no_change=10, nesterovs_momentum=True, power_t=0.5,\n",
       "       random_state=None, shuffle=True, solver='adam', tol=0.0001,\n",
       "       validation_fraction=0.1, verbose=False, warm_start=False)"
      ]
     },
     "execution_count": 111,
     "metadata": {},
     "output_type": "execute_result"
    }
   ],
   "source": [
    "model = MLPClassifier(hidden_layer_sizes=(1500,900,700), max_iter=100)\n",
    "model.fit(X_train, y_train)"
   ]
  },
  {
   "cell_type": "code",
   "execution_count": 112,
   "metadata": {},
   "outputs": [],
   "source": [
    "y_pred= model.predict(X_test)"
   ]
  },
  {
   "cell_type": "code",
   "execution_count": 113,
   "metadata": {},
   "outputs": [
    {
     "name": "stdout",
     "output_type": "stream",
     "text": [
      "0.7755511022044088\n"
     ]
    }
   ],
   "source": [
    "accuracy = model.score(X_test,y_test)\n",
    "print(accuracy)"
   ]
  },
  {
   "cell_type": "markdown",
   "metadata": {},
   "source": [
    "#### THE ACCURACY OF THE DATA BY USING NEURAL NETWORKS IS 77.3%"
   ]
  },
  {
   "cell_type": "code",
   "execution_count": 114,
   "metadata": {},
   "outputs": [
    {
     "name": "stdout",
     "output_type": "stream",
     "text": [
      "[[959   1   0   0   0   0   0]\n",
      " [  0  61  53  13   5   3   0]\n",
      " [  0  52  75  25   6   2   1]\n",
      " [  0  10  28  30  20   4   2]\n",
      " [  0   4  22  29  27   8   5]\n",
      " [  0   4   6   6  11   8   1]\n",
      " [  0   0   3   3   7   2   1]]\n",
      "              precision    recall  f1-score   support\n",
      "\n",
      "           0       1.00      1.00      1.00       960\n",
      "           1       0.46      0.45      0.46       135\n",
      "           2       0.40      0.47      0.43       161\n",
      "           5       0.28      0.32      0.30        94\n",
      "           6       0.36      0.28      0.32        95\n",
      "           7       0.30      0.22      0.25        36\n",
      "           8       0.10      0.06      0.08        16\n",
      "\n",
      "   micro avg       0.78      0.78      0.78      1497\n",
      "   macro avg       0.41      0.40      0.40      1497\n",
      "weighted avg       0.77      0.78      0.77      1497\n",
      "\n"
     ]
    }
   ],
   "source": [
    "from sklearn.metrics import classification_report, confusion_matrix\n",
    "print(confusion_matrix(y_test,y_pred))\n",
    "print(classification_report(y_test,y_pred))"
   ]
  },
  {
   "cell_type": "markdown",
   "metadata": {},
   "source": [
    "## DECISION TREE"
   ]
  },
  {
   "cell_type": "code",
   "execution_count": 115,
   "metadata": {},
   "outputs": [],
   "source": [
    "from sklearn.tree import DecisionTreeClassifier # Import Decision Tree Classifier\n",
    "from sklearn import metrics\n",
    "# Create Decision Tree classifer object\n",
    "clf = DecisionTreeClassifier()\n",
    "\n",
    "# Train Decision Tree Classifer\n",
    "clf = clf.fit(X_train,y_train)\n",
    "\n",
    "#Predict the response for test dataset\n",
    "y_pred = clf.predict(X_test)"
   ]
  },
  {
   "cell_type": "code",
   "execution_count": 116,
   "metadata": {},
   "outputs": [
    {
     "name": "stdout",
     "output_type": "stream",
     "text": [
      "Accuracy: 0.770875083500334\n"
     ]
    }
   ],
   "source": [
    "# Model Accuracy\n",
    "print(\"Accuracy:\",metrics.accuracy_score(y_test, y_pred))"
   ]
  },
  {
   "cell_type": "markdown",
   "metadata": {},
   "source": [
    "#### THE ACCURACY OF THE DATA BY USING DECISION TREE IS 77.6%"
   ]
  },
  {
   "cell_type": "code",
   "execution_count": 117,
   "metadata": {},
   "outputs": [
    {
     "name": "stdout",
     "output_type": "stream",
     "text": [
      "[[960   0   0   0   0   0   0]\n",
      " [  0  68  53   8   3   3   0]\n",
      " [  0  58  63  23  10   5   2]\n",
      " [  0  18  31  19  17   8   1]\n",
      " [  0   3  12  29  30  16   5]\n",
      " [  0   2   9   3   7  13   2]\n",
      " [  0   2   1   2   7   3   1]]\n",
      "              precision    recall  f1-score   support\n",
      "\n",
      "           0       1.00      1.00      1.00       960\n",
      "           1       0.45      0.50      0.48       135\n",
      "           2       0.37      0.39      0.38       161\n",
      "           5       0.23      0.20      0.21        94\n",
      "           6       0.41      0.32      0.36        95\n",
      "           7       0.27      0.36      0.31        36\n",
      "           8       0.09      0.06      0.07        16\n",
      "\n",
      "   micro avg       0.77      0.77      0.77      1497\n",
      "   macro avg       0.40      0.41      0.40      1497\n",
      "weighted avg       0.77      0.77      0.77      1497\n",
      "\n"
     ]
    }
   ],
   "source": [
    "from sklearn.metrics import classification_report, confusion_matrix\n",
    "print(confusion_matrix(y_test,y_pred))\n",
    "print(classification_report(y_test,y_pred))"
   ]
  },
  {
   "cell_type": "markdown",
   "metadata": {},
   "source": [
    "## Support Vector Machine"
   ]
  },
  {
   "cell_type": "code",
   "execution_count": 118,
   "metadata": {},
   "outputs": [
    {
     "name": "stderr",
     "output_type": "stream",
     "text": [
      "C:\\ProgramData\\Anaconda3\\lib\\site-packages\\sklearn\\svm\\base.py:196: FutureWarning: The default value of gamma will change from 'auto' to 'scale' in version 0.22 to account better for unscaled features. Set gamma explicitly to 'auto' or 'scale' to avoid this warning.\n",
      "  \"avoid this warning.\", FutureWarning)\n"
     ]
    },
    {
     "data": {
      "text/plain": [
       "SVC(C=1.0, cache_size=200, class_weight=None, coef0=0.0,\n",
       "  decision_function_shape='ovr', degree=3, gamma='auto_deprecated',\n",
       "  kernel='rbf', max_iter=-1, probability=False, random_state=None,\n",
       "  shrinking=True, tol=0.001, verbose=False)"
      ]
     },
     "execution_count": 118,
     "metadata": {},
     "output_type": "execute_result"
    }
   ],
   "source": [
    "from sklearn.svm import SVC\n",
    "from sklearn.metrics import accuracy_score \n",
    "\n",
    "#model = LogisticRegression()\n",
    "model = SVC()\n",
    "\n",
    "model.fit(X, y)"
   ]
  },
  {
   "cell_type": "code",
   "execution_count": 119,
   "metadata": {},
   "outputs": [],
   "source": [
    "predicted_classes = model.predict(X)"
   ]
  },
  {
   "cell_type": "code",
   "execution_count": 120,
   "metadata": {},
   "outputs": [
    {
     "name": "stdout",
     "output_type": "stream",
     "text": [
      "0.7688710754843019\n"
     ]
    }
   ],
   "source": [
    "accuracy = accuracy_score(y.values.flatten(),predicted_classes)\n",
    "print(accuracy)"
   ]
  },
  {
   "cell_type": "markdown",
   "metadata": {},
   "source": [
    "#### THE ACCURACY OF THE DATA BY USING SUPPORT VECTOR MACHINE IS 76.8%"
   ]
  },
  {
   "cell_type": "code",
   "execution_count": 121,
   "metadata": {},
   "outputs": [
    {
     "name": "stdout",
     "output_type": "stream",
     "text": [
      "[[960   0   0   0   0   0   0]\n",
      " [  0  68  53   8   3   3   0]\n",
      " [  0  58  63  23  10   5   2]\n",
      " [  0  18  31  19  17   8   1]\n",
      " [  0   3  12  29  30  16   5]\n",
      " [  0   2   9   3   7  13   2]\n",
      " [  0   2   1   2   7   3   1]]\n",
      "              precision    recall  f1-score   support\n",
      "\n",
      "           0       1.00      1.00      1.00       960\n",
      "           1       0.45      0.50      0.48       135\n",
      "           2       0.37      0.39      0.38       161\n",
      "           5       0.23      0.20      0.21        94\n",
      "           6       0.41      0.32      0.36        95\n",
      "           7       0.27      0.36      0.31        36\n",
      "           8       0.09      0.06      0.07        16\n",
      "\n",
      "   micro avg       0.77      0.77      0.77      1497\n",
      "   macro avg       0.40      0.41      0.40      1497\n",
      "weighted avg       0.77      0.77      0.77      1497\n",
      "\n"
     ]
    }
   ],
   "source": [
    "from sklearn.metrics import classification_report, confusion_matrix\n",
    "print(confusion_matrix(y_test,y_pred))\n",
    "print(classification_report(y_test,y_pred))"
   ]
  },
  {
   "cell_type": "markdown",
   "metadata": {},
   "source": [
    "## Support Vector Machine-[LINEAR FUNCTION]"
   ]
  },
  {
   "cell_type": "code",
   "execution_count": 122,
   "metadata": {},
   "outputs": [
    {
     "data": {
      "text/plain": [
       "SVC(C=1.0, cache_size=200, class_weight=None, coef0=0.0,\n",
       "  decision_function_shape='ovr', degree=3, gamma='auto_deprecated',\n",
       "  kernel='linear', max_iter=-1, probability=False, random_state=None,\n",
       "  shrinking=True, tol=0.001, verbose=False)"
      ]
     },
     "execution_count": 122,
     "metadata": {},
     "output_type": "execute_result"
    }
   ],
   "source": [
    "# 1.Linear \n",
    "from sklearn.svm import SVC\n",
    "svclassifier = SVC(kernel='linear')\n",
    "svclassifier.fit(X, y)"
   ]
  },
  {
   "cell_type": "code",
   "execution_count": 123,
   "metadata": {},
   "outputs": [],
   "source": [
    "y_pred = svclassifier.predict(X_test)"
   ]
  },
  {
   "cell_type": "code",
   "execution_count": 124,
   "metadata": {},
   "outputs": [
    {
     "name": "stdout",
     "output_type": "stream",
     "text": [
      "0.8864395457581831\n"
     ]
    }
   ],
   "source": [
    "accuracy = svclassifier.score(X_test,y_test)\n",
    "print(accuracy)"
   ]
  },
  {
   "cell_type": "markdown",
   "metadata": {},
   "source": [
    "#### THE ACCURACY OF THE DATA BY USING SUPPORT VECTOR MACHINE IN \"LINEAR FUNCTION\" IS 88.6%"
   ]
  },
  {
   "cell_type": "code",
   "execution_count": 125,
   "metadata": {},
   "outputs": [
    {
     "name": "stdout",
     "output_type": "stream",
     "text": [
      "[[960   0   0   0   0   0   0]\n",
      " [  0  91  37   3   4   0   0]\n",
      " [  0  34 115   7   4   1   0]\n",
      " [  0   6  20  57   9   2   0]\n",
      " [  0   2   5  11  70   6   1]\n",
      " [  0   0   4   3   8  21   0]\n",
      " [  0   0   0   2   1   0  13]]\n",
      "              precision    recall  f1-score   support\n",
      "\n",
      "           0       1.00      1.00      1.00       960\n",
      "           1       0.68      0.67      0.68       135\n",
      "           2       0.64      0.71      0.67       161\n",
      "           5       0.69      0.61      0.64        94\n",
      "           6       0.73      0.74      0.73        95\n",
      "           7       0.70      0.58      0.64        36\n",
      "           8       0.93      0.81      0.87        16\n",
      "\n",
      "   micro avg       0.89      0.89      0.89      1497\n",
      "   macro avg       0.77      0.73      0.75      1497\n",
      "weighted avg       0.89      0.89      0.89      1497\n",
      "\n"
     ]
    }
   ],
   "source": [
    "from sklearn.metrics import classification_report, confusion_matrix\n",
    "print(confusion_matrix(y_test,y_pred))\n",
    "print(classification_report(y_test,y_pred))"
   ]
  },
  {
   "cell_type": "markdown",
   "metadata": {},
   "source": [
    "## RANDOM FOREST"
   ]
  },
  {
   "cell_type": "code",
   "execution_count": 126,
   "metadata": {},
   "outputs": [],
   "source": [
    "from sklearn.model_selection import train_test_split\n",
    "X_train, X_test, y_train, y_test = train_test_split(X, y, test_size=0.2, random_state=1)"
   ]
  },
  {
   "cell_type": "code",
   "execution_count": 127,
   "metadata": {},
   "outputs": [
    {
     "data": {
      "text/plain": [
       "RandomForestClassifier(bootstrap=True, class_weight=None, criterion='gini',\n",
       "            max_depth=None, max_features='auto', max_leaf_nodes=None,\n",
       "            min_impurity_decrease=0.0, min_impurity_split=None,\n",
       "            min_samples_leaf=1, min_samples_split=2,\n",
       "            min_weight_fraction_leaf=0.0, n_estimators=100, n_jobs=None,\n",
       "            oob_score=False, random_state=None, verbose=0,\n",
       "            warm_start=False)"
      ]
     },
     "execution_count": 127,
     "metadata": {},
     "output_type": "execute_result"
    }
   ],
   "source": [
    "#from sklearn.linear_model import LogisticRegression \n",
    "from sklearn.ensemble import RandomForestClassifier\n",
    "from sklearn.metrics import accuracy_score \n",
    "\n",
    "#model = LogisticRegression()\n",
    "model = RandomForestClassifier(n_estimators=100)\n",
    "\n",
    "model.fit(X, y)"
   ]
  },
  {
   "cell_type": "code",
   "execution_count": 130,
   "metadata": {},
   "outputs": [],
   "source": [
    "y_pred = model.predict(X_test)"
   ]
  },
  {
   "cell_type": "code",
   "execution_count": 128,
   "metadata": {},
   "outputs": [],
   "source": [
    "#predicted_classes = model.predict(X)"
   ]
  },
  {
   "cell_type": "code",
   "execution_count": 131,
   "metadata": {},
   "outputs": [
    {
     "name": "stdout",
     "output_type": "stream",
     "text": [
      "1.0\n"
     ]
    }
   ],
   "source": [
    "accuracy = accuracy_score(y_test,y_pred)\n",
    "print(accuracy)"
   ]
  },
  {
   "cell_type": "code",
   "execution_count": null,
   "metadata": {},
   "outputs": [],
   "source": [
    "#accuracy = accuracy_score(y.values.flatten(),predicted_classes)\n",
    "#print(accuracy)"
   ]
  },
  {
   "cell_type": "markdown",
   "metadata": {},
   "source": [
    "#### THE ACCURACY OF THE DATA BY USING RANDOM TREE IS 100%"
   ]
  }
 ],
 "metadata": {
  "kernelspec": {
   "display_name": "Python 3",
   "language": "python",
   "name": "python3"
  },
  "language_info": {
   "codemirror_mode": {
    "name": "ipython",
    "version": 3
   },
   "file_extension": ".py",
   "mimetype": "text/x-python",
   "name": "python",
   "nbconvert_exporter": "python",
   "pygments_lexer": "ipython3",
   "version": "3.7.3"
  }
 },
 "nbformat": 4,
 "nbformat_minor": 2
}
